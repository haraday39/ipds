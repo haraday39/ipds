{
 "cells": [
  {
   "cell_type": "markdown",
   "metadata": {},
   "source": [
    "　　***実践データサイエンス入門　　Introduction to Practical Data Science***　　\n",
    "\n",
    "# 第4回 プログラミングの基礎　Basis of programming"
   ]
  },
  {
   "cell_type": "markdown",
   "metadata": {
    "tags": []
   },
   "source": [
    "## 講義の内容  \n",
    "\n",
    "　今後の講義の内容は、次の通りです。 The following is the contents of lectures.\n",
    "\n",
    "\n",
    "1. **第1回 JupyterLabの設定　Set-ups of JupyterLab**   \n",
    "1. **第2回 JupyterLabで計算　Caluculation by JupyterLab**   \n",
    "1. **第3回 アルゴリズムとは？　What is algorithm?**   \n",
    "1. **第4回 プログラミングの基礎　Basis of programming**   \n",
    "1. **第5回 オブジェクトの基礎　Basis of Object**\n",
    "1. **第6回 データサイエンティストへの道  Road to a data scienist**　\n",
    "1. **第7回 データサイエンス応用　Applications on data science**\n",
    "1. **第8回 レポート**"
   ]
  },
  {
   "cell_type": "markdown",
   "metadata": {},
   "source": [
    "### 九州大学内のプログラミングサークル\n",
    "\n",
    "プログラムは個人の作業ですが、みんなで学ぶと捗ることもあるかと思います。私が顧問を務めている学内サークルに[GLEAP](https://gleap.tech)があります。関心がある方は是非参加ください。部員は、9月の時点で、90名ほどいます。\n",
    "詳しくは、[GLEAP](https://gleap.tech)のWebを確認下さい。企業と連携した自発的な開発も行っており、学生ながら[企業セミナー](https://www.advantech-tj.co.jp/topics/2623)での講演等も行っています。GLEAPの代表の比嘉さんは、[DEVEL](https://devel-q.com)という量子アルゴリズムの会社を起業して活躍しております。九州大学の中でのプログラミング活動を支援して行きますので、どうぞご参加下さい。　　"
   ]
  },
  {
   "cell_type": "markdown",
   "metadata": {},
   "source": [
    "## プログラミング言語について　About programming languages \n",
    "\n",
    "　JupyterLab (Jupyter notebook)は、[プログラミング言語](https://ja.wikipedia.org/wiki/プログラミング言語)のPythonを基に作られています。プログラミング言語とは、コンピュータプログラムを記述するための言葉です。我々の世界にも、日本語、英語、フランス語とあるように、プログラミング言語にも様々な種類があります。    \n",
    "　プログラミング言語とは、コンピューター使って計算や解析、グラフ作成などの作業を実行するための命令を記述するものです。このため、使用用途ごとに記述しやすいように言葉（言語）が作られている訳です。この中で、Pythonは、[IEEE](https://ja.wikipedia.org/wiki/IEEE)の[2020年ランキング](https://spectrum.ieee.org/static/interactive-the-top-programming-languages-2020)にも示されているように、現在最も使われているプログラミング言語です。それは、Webページの開発や、分析などに適しているためです。言語は、全てそれぞれの文法に基づいているように、プログラム言語も言語ごとに文法は異なります。我々の使う言葉の場合とプログラミング言語の違いは、コンピュータの場合には厳密に文法や構文に正しくないと理解出来ないことにあります。ですので、ちょっとした文法や構文の間違いでも、コンピュータに認識されずに、エラーとなる場合があります。ここで、くじけないでください。正しい言葉を学ぶための過程であると考えて頂くと良いと思います。Pythonを習得すれば、他のプログラミング言語も同じように理解出来るので、まずはPythonを使って、プログラムを作ることに慣れて下さい。"
   ]
  },
  {
   "cell_type": "markdown",
   "metadata": {},
   "source": [
    "## プログラミングとは？ What is programming?\n",
    "\n",
    "[プログラミング(Programming)](https://tinyurl.com/37n8uvts)とは、コンピュータに何らかの仕事（これを専門用語では、[タスク(task)](https://tinyurl.com/3hyk672x)ないしは[プロセス(process)](https://tinyurl.com/2ym5aw6u)と呼びます)をさせるための[ソースコード (source code)](https://tinyurl.com/yvnxzm46)を書くことを指します。[プログラム(computer programm)](https://tinyurl.com/29rmzsev)とは、ソースコード(単に、*コード* と呼ぶことも多いです）の集まりを表しています。"
   ]
  },
  {
   "cell_type": "markdown",
   "metadata": {},
   "source": [
    "## プログラミング開発の流れ　　Workflow of programming  \n",
    "\n",
    "### プログラム作成の手順　　Workflow of program development  　\n",
    "\n",
    "　プログラムを作るための一般的な手順は次のような工程となっています。  \n",
    " \n",
    "　<img src=\"images/workflow.png\" alt=\"Workflow\" style=\"width: 400px;\" />   \n",
    " \n",
    " 1. **設計　Design**  \n",
    " 　実現したい機能を確定([仕様](https://tinyurl.com/dbmnje4y)の確定)し、処理の手順（[アルゴリズム](https://tinyurl.com/7t9y3u6r))とデータ形式などを設計します。  \n",
    " 1. **コーディング　Coding**  \n",
    " 　設計に基づいて、適したプログラミング言語を選択し、[ソースコード（source code）](https://kotobank.jp/word/ソースコード-5346)を記述します。 \n",
    " 1. **動作試験　Test running**  \n",
    " 　[言語処理系](https://kotobank.jp/word/言語処理系-60469)を使って、実際にプログラムを動かして、設計した通りに動くかどうか確認をします。  \n",
    " 1. **修正　Debugging**  \n",
    " 　意図した通りに動作するプログラムになるように、設計やコーディングに戻り、修正を行います。例えば、きちんと動作しますが、非常に計算時間がかかる場合にもあります。そのような時には、アルゴリズムを変更したり、配列のバッファサイズを変更したりすることで改善することが可能です。  \n",
    " 1. **完成　Completion**  \n",
    " 　完成したプログラムを実際に使います。必要に応じて、配布できるようにします。ユーザが使う環境（Windowsか、Macか、あるいはスマートフォンであるか？）についての検討も必要になることが考えられます。\n",
    "  \n",
    "\n",
    "### プログラムを動作させる　　Running a program  \n",
    "\n",
    "　ソースコードは、そのままではコンピュータを動かすことは出来ません。プログラミング言語で書かれたプログラム（すなわちソースコード）を処理して実行可能なプログラムコードへと変換、または処理した後何らかの操作を行うソフトウェアのことを[言語処理系（language processing system）](https://tinyurl.com/emubwxsv)と呼びます。言語処理系には、[コンパイラ（compiler）](https://tinyurl.com/fm3utkfr)と[インタープリタ（interpreter）](https://tinyurl.com/4b2p5wcp)があります。コンパイラは、ソースコードをコンピュータが実際に実行できるプログラムコードに変換して、実行します。これに対して、インタープリタは、ソースコードを解釈しながら、コンピュータに実行させます。  \n",
    "\n",
    "- コンパイラ（compiler）　ソースコードをコンパイラーを使ってマシン語に翻訳することを*コンパイル*と呼びます。  \n",
    "    - 高速実行　マシン語に翻訳されているために高速で動作します。  \n",
    "    - 構文チェック等を事前に実施　変換時に構文チェックを行うために実行時に構文エラーが出ることはありません。エラー(番号)が出ることで、正しい形に直すことが容易となります。\n",
    "    - [C/C++](https://ja.wikipedia.org/wiki/C%2B%2B), [Java](https://ja.wikipedia.org/wiki/Java), [Go](https://tinyurl.com/djasvtjv), [Fortran](https://ja.wikipedia.org/wiki/FORTRAN)\n",
    "    - コンパイル処理が必要　事前にコンパイルするためにプログラムの修正などの手間と時間がかかります。  \n",
    "\n",
    "- インタープリタ（interpreter）　実行時に、ソースコードを解釈しながらプログラムの実行を行います。  \n",
    "    - 実行処理が遅い　実行時にマシン語への変換を行うために実行速度が遅くなります。  \n",
    "    - 実行時にエラーチェック　実行時に構文チェック等を行うために、修正等の作業が発生する可能性があります。  \n",
    "    - ソースコードを書けば実行可能　ソースコードが書くだけで、すぐに実行できます。  \n",
    "    - Python, [PHP](https://tinyurl.com/yzj6k2t3), [Perl](https://ja.wikipedia.org/wiki/Perl), [JavaScript](https://ja.wikipedia.org/wiki/JavaScript), [Visual Basic](https://ja.wikipedia.org/wiki/Visual_Basic), [Smalltalk](https://ja.wikipedia.org/wiki/Smalltalk)\n",
    "\n",
    "> **【一口メモ】　プログラムの構文チェックとは**    \n",
    "　そのプログラムをマシン語に変換して実行できるかを確認する作業を指しています。文法上の問題がないかどうかの確認、そして、きちんと命令が書けているかの確認になります。プログラムの実行処理に関しては、「順次処理」、「分岐処理」、そして「反復処理」の3つがあります。 \n",
    "\n"
   ]
  },
  {
   "cell_type": "markdown",
   "metadata": {},
   "source": [
    "## 主なプログラミング言語　　Major programing languages  \n",
    "\n",
    "　主なプログラミング言語として次のようにあります。  \n",
    "\n",
    "\n",
    "| プログラミング言語 |           特徴               |  主な用途       |  \n",
    "| :-------------: | :-------------------------: | :------------: |  \n",
    "| C言語            | OSレベルの細かい処理が記述出来る | Linux/Unix向け |\n",
    "| C++             | Cを拡張しオプジェクト志向を<br>取り入れた言語 | 大規模プログラム | \n",
    "| Java            | パソコンから組み込みデバイスまで<br>様々な環境で動作する | Webサーバー、<br>スマートフォン |  \n",
    "| PHP, Javascript | Webサーバー向けのスクリプト言語   | Web上のシステム |  \n",
    "| Python          | 汎用のスクリプト言語で<br>ライブラリが充実している | 様々な用途 |  \n",
    "\n",
    "\n",
    "> **【一口メモ】オプジェクト志向とは**  \n",
    "　プログラム言語には関数のように、そこに値を代入することで動作させるものC言語などがあるが、オプジェクト志向とは、モノを定義して、それにタスクを課すようなプログラムの作り方である。なかなか説明が難しいが、そのようなプログラムの作り方があると覚えておこう。  \n",
    " \n",
    "> **【一口メモ】スクリプト言語とは**  \n",
    "　[スクリプト言語（scripting language）](https://ja.wikipedia.org/wiki/スクリプト言語)とは、プログラミング言語のうち、プログラムの記述や実行を比較的簡易に行うことができる言語の総称である。スクリプト（script）を日本語に訳すと、台本や脚本である。非常に多くの場合、スクリプト言語はインタープリタ型言語であり、コンパイラ型言語に比べて実行までの処理の手間がかからないという特徴を持っている。  \n",
    " \n",
    "\n",
    "### Pythonの特徴  \n",
    "\n",
    "<img src=\"images/python_logo.jpeg\" alt=\"Python Logo\" style=\"width: 120px;\" align=\"left\"/>  \n",
    "\n",
    "\n",
    "　[Python](https://ja.wikipedia.org/wiki/Python)は、汎用なプログラミング言語で、今一番注目されているプログラミング言語の一つであり、次のような特徴を持っています。  \n",
    " \n",
    "- 簡単に作成　スクリプト言語であり、簡単に処理を作成できて、読みやすいように言語仕様が工夫されています。  \n",
    " \n",
    "- 応用分野が広い　Webサーバなどの一般的な利用だけでなく、機械学習やデータ解析などに使われています。  \n",
    " \n",
    "- ライブラリが充実　ライブラリとは、特定の処理をさせるプログラムです。充実したライブラリがあれば、一からプログラムを書く必要がなく、それを活用することで複雑な処理も簡単に作れます。 \n",
    " \n",
    "- オープンソースソフトウェア（OSS）　Pythonは、[オープンソースソフトウェア](https://ja.wikipedia.org/wiki/オープンソースソフトウェア)として公開されています。ですので、無料で使うことが出来ます。\n",
    "\n",
    "- バージョンの違いに注意　Pythonは、Python2とPython3の2つの系統（バージョン）があります。この二つは互換性がありません。すなわち、Python2で書いたプログラムは、Python3では動きません。Python2系は、2020年にサポートが終了します。このため、Python3系（現状では、3.7.x）を使うことを推奨します。  \n",
    "\n",
    "\n",
    "> **【一口メモ】オープンソースソフトウェアとフリーソフトウェアの違い**  \n",
    "オープンソースソフトウェアとフリーソフトウェアは、両方とも無料で使われる点は同じである。しかしながら、フリーソフトウェアは、ソースコードが公開されていないために、セキュリティを含めたプログラムの検証が出来ないという問題点があります。  \n",
    "\n",
    "\n",
    "### Jupyter notebookについて  \n",
    "\n",
    "Jupyter notebookは、Webブラウザを利用した対話型コンピューティング([Interactive computing](https://en.wikipedia.org/wiki/Interactive_computing))です。  \n",
    "対話型コンピューティングとは、利用者(User)が、逐次的にコマンド(command)を入力し、その出力結果を確認しながら、次のコマンドを入力して、進めていく仕組みです。これに対して、コマンドを書いたプログラムを準備して、それを一括してコンピュータで処理する仕組みを、バッチ(batch)処理型コンピューティング([batch processing](https://en.wikipedia.org/wiki/Batch_processing))と呼びます。  \n",
    "\n",
    "Pythonの中で、対話型コンピューティングを実施するものを[iPython (interactive python)](https://ja.wikipedia.org/wiki/IPython)と呼びます。JupyterLabは、iPythonを基に他の言語系（統計解析の[R](https://tinyurl.com/2fpvdfv5)や高度で高速な科学技術計算を行う[Julia](https://tinyurl.com/t564dwwa)など）をサポートしており、非常に使いやすくなっています。"
   ]
  },
  {
   "cell_type": "markdown",
   "metadata": {},
   "source": [
    "### プログラムの基本構造　Three programming structures\n",
    "\n",
    "プログラムは、全て次のような3つの基本構造から出来ています。  \n",
    "\n",
    "- 逐次実行(sequences)　順番に従い処理が実行される  \n",
    "- 条件分岐(selections)　条件によって、処理の流れを変える  \n",
    "- 繰り返し(loops)　条件を満たす間は、同じ処理を繰り返し実行する  \n",
    "\n",
    "下の図に、それぞれの基本構造を示します。  \n",
    "\n",
    "<img src=\"images/ProgramStructures.png\" alt=\"Program Structures\" style=\"width: 1000px;\" />   \n",
    "\n"
   ]
  },
  {
   "cell_type": "markdown",
   "metadata": {},
   "source": [
    "## 逐次実行 Sequences  \n",
    "\n",
    "Jupter Notebookでは、1つのセルの中に式を書くと、上から順番に逐次実行されます。  "
   ]
  },
  {
   "cell_type": "code",
   "execution_count": null,
   "metadata": {},
   "outputs": [],
   "source": [
    "1 + 2\n",
    "3 * 5 - 1\n",
    "4 * 7 + 2"
   ]
  },
  {
   "cell_type": "markdown",
   "metadata": {},
   "source": [
    "セル内に複数の式を記述した場合には、一番最後の式の評価結果が、Out[ ]として出力される点に注意してください。それまでの式も評価されていますが、print()などによる結果の出力を伴わないために、一つ目と二つ目の評価結果は出力されていません。  \n",
    "\n",
    "逐次実行では、必ず実行の順番が維持されます。一つの命令が終了してから、次の命令が実行されます。計算の順番が問題になる場合には、記述する順番に注意します。"
   ]
  },
  {
   "cell_type": "code",
   "execution_count": null,
   "metadata": {},
   "outputs": [],
   "source": [
    "a = 2 ** 3\n",
    "print(a)\n",
    "b = 5 / 2\n",
    "print(a + b)\n",
    "a = 3\n",
    "print(\"a=\", a)"
   ]
  },
  {
   "cell_type": "markdown",
   "metadata": {},
   "source": [
    "実際に逐次計算について調べてみましょう。  \n",
    "以下の例を考えてみます。\n",
    "\n",
    "例：変数に値を代入しながら、aとbの合計を順番に求めるプログラム"
   ]
  },
  {
   "cell_type": "code",
   "execution_count": null,
   "metadata": {},
   "outputs": [],
   "source": [
    "a = 100\n",
    "b = 20\n",
    "print (a + b)  #print関数のカッコの前にスペースを入れても大丈夫です。\n",
    "a = 5\n",
    "print(a + b)\n",
    "a = 8\n",
    "print(a + b)\n",
    "b = -1\n",
    "print(a + b)"
   ]
  },
  {
   "cell_type": "markdown",
   "metadata": {},
   "source": [
    "ここでは、計算が上から順番に計算されていることがわかります。これを、4つに分割してみます。"
   ]
  },
  {
   "cell_type": "code",
   "execution_count": null,
   "metadata": {},
   "outputs": [],
   "source": [
    "# セルA\n",
    "a = 100\n",
    "b = 20\n",
    "print(a + b) "
   ]
  },
  {
   "cell_type": "code",
   "execution_count": null,
   "metadata": {},
   "outputs": [],
   "source": [
    "# セルB\n",
    "a = 5\n",
    "print(a + b)"
   ]
  },
  {
   "cell_type": "code",
   "execution_count": null,
   "metadata": {},
   "outputs": [],
   "source": [
    "# セルC\n",
    "a = 8\n",
    "print(a + b)"
   ]
  },
  {
   "cell_type": "code",
   "execution_count": null,
   "metadata": {},
   "outputs": [],
   "source": [
    "# セルD\n",
    "b = -1\n",
    "print(a + b)"
   ]
  },
  {
   "cell_type": "markdown",
   "metadata": {},
   "source": [
    "ここで、セルBに戻り、再評価を試みます。"
   ]
  },
  {
   "cell_type": "code",
   "execution_count": null,
   "metadata": {},
   "outputs": [],
   "source": [
    "# セルB\n",
    "a = 5\n",
    "print(a + b)"
   ]
  },
  {
   "cell_type": "markdown",
   "metadata": {},
   "source": [
    "以前の計算結果と異なる結果となったのは、セルDの計算で、変数bが、20から-1に変わったためです。このように、セルの順番は、計算時に意識をしておく必要があります。"
   ]
  },
  {
   "cell_type": "markdown",
   "metadata": {},
   "source": [
    "## 入力関数　Input function  \n",
    "\n",
    "プログラムの途中において、変数の値を入力したい場合もよくあります。そのような場合には、input( )関数を使うと、プログラムの下に入力ボックスが現れて、キーボードから値（文字列）を入力することが出来ます。"
   ]
  },
  {
   "cell_type": "code",
   "execution_count": null,
   "metadata": {},
   "outputs": [],
   "source": [
    "a = input(\"好きな文字を入力して下さい。　\")\n",
    "a"
   ]
  },
  {
   "cell_type": "code",
   "execution_count": null,
   "metadata": {},
   "outputs": [],
   "source": [
    "a = input(\"好きな数字を入力して下さい。\")\n",
    "a + 10"
   ]
  },
  {
   "cell_type": "markdown",
   "metadata": {},
   "source": [
    "ここでは、計算結果はエラーとなります。これは、print( )関数の出力は、文字列であり、整数\"1\"と足すことは出来ません。これを解決するために、文字列を数値に変換してから加算を行う必要があります。"
   ]
  },
  {
   "cell_type": "code",
   "execution_count": null,
   "metadata": {},
   "outputs": [],
   "source": [
    "a = input(\"好きな数字を入力して下さい。\")\n",
    "a = int(a)\n",
    "a + 10"
   ]
  },
  {
   "cell_type": "markdown",
   "metadata": {},
   "source": [
    "上の計算では、好きな数字として整数を入れた場合には正しい結果が出力されますが、例えば、1.234と入れてみて下さい。エラーが発生します。これは、文字列aが、整数でないためです。全ての数を含める場合には、float( )関数を使うと解決されます。"
   ]
  },
  {
   "cell_type": "code",
   "execution_count": null,
   "metadata": {},
   "outputs": [],
   "source": [
    "a = input(\"好きな数字を入力して下さい。\")\n",
    "a = float(a)\n",
    "a + 10"
   ]
  },
  {
   "cell_type": "markdown",
   "metadata": {},
   "source": [
    "## 条件分岐　Selections  \n",
    "\n",
    "条件により計算結果を変えたい場合には、条件分岐を使います。条件分岐には、if文が使われます。  \n",
    "\n",
    "Pythonのif文は次の書式となります。\n",
    "\n",
    "`if 条件文1:  \n",
    "    条件式1が満たされた場合に実行する処理  \n",
    "elif 条件文2:  \n",
    "    条件式2が満たされた場合に実行する処理  \n",
    "else:  \n",
    "    それ以外の場合に実行する処理`\n",
    "\n",
    "\n",
    "#### 【注意】\n",
    "- if (イフ)、elif (エルイフ)、else (エルス)と読みます。\n",
    "- 条件式の後に「:」（コロン colon）が必要です。\n",
    "- 条件が満たされた場合に実行する処理は、段付つ（インデント indent）が必要です。タブ（TAB）やスペース（Space）を持ちついて、段付けを行います。\n",
    "- 必要がなければ、「elif」や「else」を省略出来ます。\n",
    "\n",
    "例：　点数aが、60以上の場合に、「合格しました。」と表示するプログラム"
   ]
  },
  {
   "cell_type": "code",
   "execution_count": null,
   "metadata": {},
   "outputs": [],
   "source": [
    "s = input (\"点数を入力して下さい。 \")\n",
    "a = int(s)\n",
    "if a >= 60:\n",
    "    print(\"合格しました。\")"
   ]
  },
  {
   "cell_type": "markdown",
   "metadata": {},
   "source": [
    "段付けを設定しないと、エラーになります。以下の例では、\"IndentationError: expected an indented block\"とエラーになります。"
   ]
  },
  {
   "cell_type": "code",
   "execution_count": null,
   "metadata": {},
   "outputs": [],
   "source": [
    "s = input (\"点数を入力して下さい。 \")\n",
    "a = int(s)\n",
    "if a >= 60:\n",
    "print(\"合格しました。\")"
   ]
  },
  {
   "cell_type": "markdown",
   "metadata": {},
   "source": [
    "点数が60以上の場合には、「合格しました。」、それ以外の場合には「不合格でした。」と表示するプログラム"
   ]
  },
  {
   "cell_type": "code",
   "execution_count": null,
   "metadata": {},
   "outputs": [],
   "source": [
    "s = input (\"点数を入力して下さい。 \")\n",
    "a = int(s)\n",
    "if a >= 60:\n",
    "    print(\"合格しました。\")\n",
    "else:\n",
    "    print(\"不合格でした。\")"
   ]
  },
  {
   "cell_type": "markdown",
   "metadata": {},
   "source": [
    "例：年齢を入力し、下記の表の児童と児童でない方を区別する。 \n",
    "<img src=\"images/kubun.png\" alt=\"kubun\" style=\"width: 800px;\" />  "
   ]
  },
  {
   "cell_type": "code",
   "execution_count": null,
   "metadata": {},
   "outputs": [],
   "source": [
    "s = input (\"年齢を入力して下さい。\")\n",
    "a = int(s)\n",
    "if a >18:\n",
    "    print (\"児童ではありません。\")\n",
    "elif a >=6:\n",
    "    print (\"少年です。\")\n",
    "elif a >1:\n",
    "    print (\"幼児です。\")\n",
    "else:\n",
    "    print (\"乳児です。\")"
   ]
  },
  {
   "cell_type": "markdown",
   "metadata": {},
   "source": [
    "## 条件式の書き方  Writing conditional expressions  \n",
    "\n",
    "if文の条件式には、**比較演算子**を記述します。数値の比較では、以下の条件式が用いられます。\n",
    "\n",
    "\n",
    "\n",
    "| 比較演算子<br>comparison operators | 例<br> examples  | 意味<br> meaning | 備考<br> notes |  \n",
    "| :------------------------------: | :--------------: | :------------: | :-----------: |\n",
    "|  >    | a > b  | aがbより大きい  |  |\n",
    "|  <    | a < b  | aがbより小さい  |  |\n",
    "| >=    | a >= b | aがb以上       |  |\n",
    "| <=    | a <= b | aがb以下       |  |\n",
    "| ==    | a == b | aとbが等しい    | 等号(equal)を2つ記述すること |\n",
    "| !=    | a != b | aとbが等しくない | びっくりマーク(exclamation mark !)<br>+ 等号(equal =) |\n",
    "\n",
    "どの演算子でも、真（正しい）の場合には、「True」が、偽（正しくない）には、「False」を返します。　　\n",
    "\n",
    "例：数値の比較"
   ]
  },
  {
   "cell_type": "code",
   "execution_count": null,
   "metadata": {},
   "outputs": [],
   "source": [
    "1 > 5"
   ]
  },
  {
   "cell_type": "code",
   "execution_count": null,
   "metadata": {},
   "outputs": [],
   "source": [
    "1.23 > 1.2299"
   ]
  },
  {
   "cell_type": "code",
   "execution_count": null,
   "metadata": {},
   "outputs": [],
   "source": [
    "2 == 2.0"
   ]
  },
  {
   "cell_type": "code",
   "execution_count": null,
   "metadata": {},
   "outputs": [],
   "source": [
    "3 != 4"
   ]
  },
  {
   "cell_type": "markdown",
   "metadata": {},
   "source": [
    "**論理演算子**を使うと、複雑な条件を記述出来ます。　　\n",
    "\n",
    "| 論旨演算子 |      例 example       |  意味 meaning    |  \n",
    "| :------: | :-------------------: | :------------: |  \n",
    "|  and     | a and b               | a かつ b        |  \n",
    "|   or     | a or b                | a または b      |  \n",
    "|  not     |  not a                | a ではない　　　　|  \n",
    "\n",
    "\n",
    "例：論理演算を使った複雑な条件の例  "
   ]
  },
  {
   "cell_type": "code",
   "execution_count": null,
   "metadata": {},
   "outputs": [],
   "source": [
    "2 > 1 and 5 > 4"
   ]
  },
  {
   "cell_type": "code",
   "execution_count": null,
   "metadata": {},
   "outputs": [],
   "source": [
    "not (1 > 3)"
   ]
  },
  {
   "cell_type": "code",
   "execution_count": null,
   "metadata": {},
   "outputs": [],
   "source": [
    "not 1 > 3"
   ]
  },
  {
   "cell_type": "code",
   "execution_count": null,
   "metadata": {},
   "outputs": [],
   "source": [
    "a = 1\n",
    "b = 3\n",
    "c = 5\n",
    "a > b or c > b"
   ]
  },
  {
   "cell_type": "markdown",
   "metadata": {},
   "source": [
    "論理演算子を利用した複雑な条件判断の例を示します。　　\n",
    "\n",
    "例：　閏（うるう）年の計算　\n",
    "\n",
    "次の年は、うるう年です。  \n",
    "- 4で割り切れる年は、うるう年です。\n",
    "- ただし、4で割り切れても100で割り切れる年は、うるう年ではありません。\n",
    "- ただし、100で割り切れても400で割り切れる年はうるう年です。"
   ]
  },
  {
   "cell_type": "code",
   "execution_count": null,
   "metadata": {},
   "outputs": [],
   "source": [
    "#うるう年かどうかを判断するプログラム\n",
    "s = input (\"西暦を入力雨してください？\")\n",
    "x = int(s)\n",
    "if ((x % 4 == 0 and x % 100 !=0 ) or x % 400 == 0 ):\n",
    "    print (\"うるう年です。\")\n",
    "else:\n",
    "    print (\"うるう年ではありません。\")"
   ]
  },
  {
   "cell_type": "markdown",
   "metadata": {},
   "source": [
    "## 繰り返し　Loop \n",
    "\n",
    "ここでは、プログラムの基本構造の1つである繰り返し(repeat)をPythonで記述する方法を習得します。  \n",
    "\n",
    "### while文を使った繰り返し  loop with while statement\n",
    "\n",
    "while文は、与えられた条件式を満たしている間、繰り返し命令を実行します。次の書式を用います。\n",
    "\n",
    "`while 条件式:  \n",
    "       実行する命令1  \n",
    "       実行する命令2`\n",
    "\n",
    "while文の記述では、次の店に注意してください。\n",
    "- 条件式の後には、「:」（コロン colon）を付けます。\n",
    "- 実行する命令は、必ず段付（intent）して記述します。\n",
    "- インデントされている行は、繰り返し実行されます。\n",
    "\n",
    "\n",
    "例：1から5まで数字を表示する。　　\n",
    "変数iを使い、最初に1を設定します。繰り返すたびにiに1を足していき、iが5よりも大きくなったら、while文から抜けます。ここでのiは、ループカウンタ(loop counter)と呼ばれます。　　"
   ]
  },
  {
   "cell_type": "code",
   "execution_count": null,
   "metadata": {},
   "outputs": [],
   "source": [
    "i = 1\n",
    "while i <= 5:\n",
    "    print(i)\n",
    "    i = i + 1\n",
    "    # i += 1  上と同じ動作を示します。"
   ]
  },
  {
   "cell_type": "markdown",
   "metadata": {},
   "source": [
    "例：　\"Hello World\"を3回繰り返して表示する。"
   ]
  },
  {
   "cell_type": "code",
   "execution_count": null,
   "metadata": {},
   "outputs": [],
   "source": [
    "i = 1\n",
    "while i <= 3:\n",
    "    print (\"Hello World\")\n",
    "    i += 1"
   ]
  },
  {
   "cell_type": "markdown",
   "metadata": {},
   "source": [
    "上の計算において、条件式を間違えたり、変数iを増加させる行を忘れたりすると、処理が終わらなくなります。このような状況は、「無限ループ」と呼ばれます。"
   ]
  },
  {
   "cell_type": "code",
   "execution_count": null,
   "metadata": {},
   "outputs": [],
   "source": [
    "i = 1\n",
    "while i <= 5 :\n",
    "    print (i)"
   ]
  },
  {
   "cell_type": "markdown",
   "metadata": {},
   "source": [
    " 無限ループに入ってしまった場合には、Jupyter notebookのショートカットにある、**停止ボタン「■」** を押して、計算を止めさせます。無限ループが発生したり、プログラムをとめたい場合には、「■」を押してください。\n",
    "\n",
    "<img src=\"images/stop.png\" alt=\"stop execution\" style=\"width: 800px;\" />  \n",
    "\n",
    "また、最初から条件を満たさないプログラムは、一度も繰り返し（loop)をせずに終了します。"
   ]
  },
  {
   "cell_type": "code",
   "execution_count": null,
   "metadata": {},
   "outputs": [],
   "source": [
    "i = 1\n",
    "while i >5:\n",
    "    print(i)\n",
    "    i = i + 1"
   ]
  },
  {
   "cell_type": "markdown",
   "metadata": {},
   "source": [
    "## for文を使った繰り返し   loop with for statement  \n",
    "\n",
    "繰り返しを実行する別の方法として、for文を使うことも出来ます。for文では、繰り返したい要素を与えると、その要素の数だけループを繰り返します。  \n",
    "for文は、あらかじめ作成したリストに対して同じ処理を実行したい場合によく用いられます。  \n",
    "for文を使った繰り返しでは、次の書式を用います。\n",
    "\n",
    "`for 変数(variable) in シーケンス(sequence)：  \n",
    "      実行する命令1  \n",
    "      実行する命令2`\n",
    "\n",
    "次の点に注意して記述します。\n",
    "- 繰り返しで使用する「変数」を指定します。\n",
    "- 変数をシーケンスの間に「in」というキーワードを入れます。\n",
    "- シーケンスの後には「：」（コロン　colon）を付けます。\n",
    "- 実行する命令は、必ず段付（インデント）して記述します。\n",
    "- 段付されている行は段付の終わりの行まで繰り返し実行されます。\n",
    "\n",
    "例：繰り返しを使って、1から5までの数字を印字する。\n"
   ]
  },
  {
   "cell_type": "code",
   "execution_count": null,
   "metadata": {},
   "outputs": [],
   "source": [
    "for i in [1, 2, 3, 4, 5]:\n",
    "    print(i)"
   ]
  },
  {
   "cell_type": "markdown",
   "metadata": {},
   "source": [
    "シーケンスにある要素の数だけ繰り返します。シーケンスの中身は数字でなくても構いません。"
   ]
  },
  {
   "cell_type": "code",
   "execution_count": null,
   "metadata": {},
   "outputs": [],
   "source": [
    "for i in [ \"Jan.\",\"Feb.\",\"Mar.\",\"Apr.\" ] : \n",
    "    print(i)"
   ]
  },
  {
   "cell_type": "markdown",
   "metadata": {},
   "source": [
    "for文の繰り返しを与えるシーケンス(sequence)の生成には、range( )を使うと便利です。range( )は指定したパラメータに従い、シーケンスを生成する関数です。\n",
    "\n",
    "| 関数呼び出し<br>Function call |      意味       |  例 Example    | 結果 Result |  \n",
    "| :----------:   | :-------------------:  | :------------: | :------------: |\n",
    "| range(p)       | 0以上、p未満の整数列      | range(4)       | 0, 1, 2, 3     |  \n",
    "| range(p, q)    | p以上、q未満の整数列      | range(2,6)     | 2, 3, 4, 5     | \n",
    "| rnage(p, q, t) | p以上、q未満、t間隔k整数列 | range(2,11,3)  | 2, 5, 8 　　　　|  \n"
   ]
  },
  {
   "cell_type": "code",
   "execution_count": null,
   "metadata": {},
   "outputs": [],
   "source": [
    "#1から5までのシーケンスを生成する\n",
    "a = range(1, 6)\n",
    "list(a)"
   ]
  },
  {
   "cell_type": "code",
   "execution_count": null,
   "metadata": {},
   "outputs": [],
   "source": [
    "for i in range(5):\n",
    "    print(i)"
   ]
  },
  {
   "cell_type": "code",
   "execution_count": null,
   "metadata": {},
   "outputs": [],
   "source": [
    "for i in range(3, 10):\n",
    "    print(i)"
   ]
  },
  {
   "cell_type": "code",
   "execution_count": null,
   "metadata": {},
   "outputs": [],
   "source": [
    "for i in range(2, 20, 3):\n",
    "    print(i)"
   ]
  },
  {
   "cell_type": "markdown",
   "metadata": {},
   "source": [
    "## 繰り返しを使った数値計算　Numerical calculation in terms of loop operation  \n",
    "\n",
    "例：1から100までの数字を改行なしで印字する。"
   ]
  },
  {
   "cell_type": "code",
   "execution_count": null,
   "metadata": {},
   "outputs": [],
   "source": [
    "for i in range(1, 101):\n",
    "    print(i, end= \" \")"
   ]
  },
  {
   "cell_type": "markdown",
   "metadata": {},
   "source": [
    "print( )関数で改行したいない場合には、最後の引数で「end=\" \"」を付けます。  \n",
    "\n",
    "例：range( )関数を使い、1から10までの数字の合計を求める。"
   ]
  },
  {
   "cell_type": "code",
   "execution_count": null,
   "metadata": {},
   "outputs": [],
   "source": [
    "s = 0\n",
    "for i in range(1, 11):\n",
    "    s = s + i\n",
    "print(s)"
   ]
  },
  {
   "cell_type": "code",
   "execution_count": null,
   "metadata": {},
   "outputs": [],
   "source": [
    "s = 0\n",
    "for i in range(1, 11):\n",
    "    s = s + i\n",
    "    print(s)\n",
    "print(\"Sum =\", s)"
   ]
  },
  {
   "cell_type": "markdown",
   "metadata": {},
   "source": [
    "繰り返しを使って、$x^2$の値を0から10まで計算し、$x$と$x^2$を表示する。"
   ]
  },
  {
   "cell_type": "code",
   "execution_count": null,
   "metadata": {},
   "outputs": [],
   "source": [
    "for x in range(11):\n",
    "    print(x, x**2)"
   ]
  },
  {
   "cell_type": "markdown",
   "metadata": {},
   "source": [
    "繰り返しを使って、$\\sqrt x$の値を、xが1から10まで計算し、xと$\\sqrt x$を表示する。"
   ]
  },
  {
   "cell_type": "code",
   "execution_count": null,
   "metadata": {},
   "outputs": [],
   "source": [
    "import math\n",
    "for x in range(1, 11):\n",
    "    print(x, math.sqrt(x))"
   ]
  },
  {
   "cell_type": "markdown",
   "metadata": {},
   "source": [
    "例：繰り返しを使った数値計算  \n",
    "繰り返しを使って、$\\sin x$の値をxが0°から90°まで、5度刻みで計算して、$x$と$\\sin x$を表示する。"
   ]
  },
  {
   "cell_type": "code",
   "execution_count": null,
   "metadata": {},
   "outputs": [],
   "source": [
    "import math\n",
    "for x in range(0, 91, 5):\n",
    "    print(x, math.sin(math.radians(x)))"
   ]
  },
  {
   "cell_type": "markdown",
   "metadata": {},
   "source": [
    "例：九九の表を作成する。  \n",
    "次のような手順で、繰り返しを使って、九九の表を作成する。\n",
    "\n",
    "- for文(1)で、rowという変数に1から9までのリストの値を代入する。\n",
    "- for文(2)で、lineという変数雨に1から9までのリストの値を代入する。\n",
    "- row x lineを計算し、結果を改行なしで表示する。\n",
    "- 行が終了したら改行する。  \n",
    "\n",
    "これをプログラムにしてみます。"
   ]
  },
  {
   "cell_type": "code",
   "execution_count": null,
   "metadata": {},
   "outputs": [],
   "source": [
    "for row in range(1, 10):\n",
    "    for line in range(1, 10):\n",
    "        print(row * line, end=\" \")\n",
    "    print( )"
   ]
  },
  {
   "cell_type": "markdown",
   "metadata": {},
   "source": [
    "### モジュールについて\n",
    "\n",
    "第2回の講義では、三角関数などの数学関数を[mathモジュール](https://docs.python.org/ja/3/library/math.html)として活用しました。このように、Jupyter Notebook (Python)には、[標準ライブラリ](https://docs.python.org/ja/3/library/index.html)と呼ばれる様々な作業を実行ことが出来るツールが揃っています。詳しくは、上の標準ライプラリをご覧ください。標準ライプラリ以外にも、後からダウンロードして追加出来る外部モジュールも多数あります。後の講義で出てきますが、**NumPy**（ナンパイ）やグラフ描画に使われる**Matplotlib**（マットプロットリブ）、データ解析を支援する機能を提供するExcelの高級版のような**Pandas**（パンダス）などがあります。\n",
    "\n",
    "[モジュール](https://docs.python.org/ja/3/tutorial/modules.html)とは、Pythonのファイルで、*xxx.py*と書かれています。モジュールは、**import**を使うことで、今使っているプログラムの中で使えることが可能となります。このため、例えば、皆さんが普段使うようなプログラムを作った場合には、それをモジュールとして登録しておけば、ご自身のプログラムで自由に使うことが可能となります。  \n",
    "\n",
    "将来的に大きなプログラムを作る場合、自分で作成したモジュールを組み合わせることで、複雑な計算を行うことは可能です。プログラミングでの大きな問題は、これまで作ったプログラムの利活用でした。ちょうど、レゴを組み立てるように、モジュール化（プログラム言語によっては、サブルーチンとも呼ばれます。）をされたプログラムを組み上げて、大規模なプログラムを作る方法は、プログラムの作成において大きなポイントとなります。また、自分だけでなく、多数の人たちとプログラムを作る際にもモジュール化は大きな力となります。\n",
    "\n",
    "<img src=\"images/module.pdf\" alt=\"Module\" style=\"width: 600px;\" align=\"left\"/>  "
   ]
  },
  {
   "cell_type": "markdown",
   "metadata": {},
   "source": [
    "for文が二重になっている点に注意して下さい。2段目のループの処理を記述するためには、二重にインデントを行う必要があります。"
   ]
  },
  {
   "cell_type": "markdown",
   "metadata": {},
   "source": [
    "## pythonの計算誤差を除く手法　Reduction of numerical errors\n",
    "\n",
    " 前にお話をしたように、計算機は二進法に基づいているために、小数(decimal)を扱う場合には、計算誤差が発生する場合があります。これを防ぐために、pythonでは、[Decimalモジュール(decimal module)](https://docs.python.org/ja/3/library/decimal.html)が用意されています。　\n",
    "\n",
    "　計算誤差の例とはして、次を実行してみて下さい。"
   ]
  },
  {
   "cell_type": "code",
   "execution_count": null,
   "metadata": {},
   "outputs": [],
   "source": [
    "0.2+0.2+0.2-0.6"
   ]
  },
  {
   "cell_type": "markdown",
   "metadata": {},
   "source": [
    "　計算結果は、正確には**0.0**になるはずですが、計算誤差が発生しています。また、下のような計算ではうまくいきます。通常は問題にならないかもしれませんが、繰り返し計算を行うような場合には、計算誤差が問題になる場合も出てきます。"
   ]
  },
  {
   "cell_type": "code",
   "execution_count": null,
   "metadata": {},
   "outputs": [],
   "source": [
    "0.1+0.1+0.2-0.4"
   ]
  },
  {
   "cell_type": "markdown",
   "metadata": {},
   "source": [
    "### decimalモジュールの使い方　How to use decimal module\n",
    "\n",
    "　decimlaモジュールを使うためには、mathモジュールと同様に、**import**を使います。具体的に見てみましょう。"
   ]
  },
  {
   "cell_type": "code",
   "execution_count": null,
   "metadata": {},
   "outputs": [],
   "source": [
    "# decimalモジュールの導入\n",
    "from decimal import Decimal\n",
    "\n",
    "# floatの計算\n",
    "f1 = 0.1\n",
    "f2 = 0.2\n",
    "f3 = 0.3\n",
    "\n",
    "print(f1+f2 == f3)\n",
    "print(f1+f2)"
   ]
  },
  {
   "cell_type": "markdown",
   "metadata": {},
   "source": [
    "上では、*decimal*モジュールの中にある[*Decimal*オプジェクト](https://docs.python.org/ja/3/library/decimal.html#decimal-objects)だけを導入しています。"
   ]
  },
  {
   "cell_type": "code",
   "execution_count": null,
   "metadata": {},
   "outputs": [],
   "source": [
    "# decimalの計算\n",
    "d1 = Decimal('0.1')\n",
    "d2 = Decimal('0.2')\n",
    "d3 = d1 + d2\n",
    "\n",
    "print(d3)"
   ]
  },
  {
   "cell_type": "code",
   "execution_count": null,
   "metadata": {},
   "outputs": [],
   "source": [
    "a = Decimal('inf')\n",
    "b = Decimal('-inf')\n",
    "c = Decimal('NaN')\n",
    "d = Decimal('+0.0')\n",
    "e = Decimal('-0.0')\n",
    "\n",
    "print(a)\n",
    "print(b)\n",
    "print(c)\n",
    "print(d/a)\n",
    "print(d/b)\n",
    "print(e/b)\n",
    "print(e/a)"
   ]
  },
  {
   "cell_type": "markdown",
   "metadata": {},
   "source": [
    "Decimalは、無限大(∞)や-無限大(-∞)を扱うことが出来ます。また、数値でないものをNaNとして扱うことも可能です。また、0についても、負の方から近づく-0と、正の方から近づく+0も認識されます。"
   ]
  },
  {
   "cell_type": "markdown",
   "metadata": {},
   "source": [
    "### ネイピア数(*e*)の計算\n",
    "\n",
    "　第3回のアルゴリズムの例の中の最適停止問題(optimal stopping)に出てきましたが、[ネイピア(オイラー)数((Napier's constant))](https://tinyurl.com/fkkrysxh)とは、自然対数の底(base)になっている[超越数])https://tinyurl.com/hverkcvs)である。   \n",
    "\n",
    "　*e* の計算式は、\n",
    "$$ e = \\lim_{n \\to \\infty} (1 + \\frac{1}{n})^n$$   \n",
    "\n",
    "となりますが、これはnが大きくなる連れて、計算量が多くなり、また誤差も大きいために良い計算方法ではありません。このため、次の式で$x=1$として計算することが可能です。次に実際に階乗(factorial)を定義し、ネイピア数(napier's constatant)を計算してみましょう。\n",
    "\n",
    "$$ e^{x} = \\sum_{n=1}^{\\infty} \\frac{x^n}{n!}$$\n",
    "\n"
   ]
  },
  {
   "cell_type": "code",
   "execution_count": null,
   "metadata": {},
   "outputs": [],
   "source": [
    "def factorial(n): # 階乗関数の定義\n",
    "    f=1\n",
    "    for i in range(n):\n",
    "        f = f*(i+1)\n",
    "    return f\n",
    " \n",
    "def series1(n,x): # ネイピア数の計算\n",
    "    series = 1 + x\n",
    "    for i in range(2,n+1):\n",
    "        series = series + (x**i)/factorial(i) # 1項ずつ加えていく\n",
    "        print(series)\n",
    "    return series\n",
    "\n",
    "#n=100まで計算\n",
    "print(series1(100, 1))"
   ]
  },
  {
   "cell_type": "markdown",
   "metadata": {},
   "source": [
    "ネイピア数は、\n",
    "$$e = 2.71828 18284 59045 23536 02874 71352 …$$ですから、15桁まで一致しています。pythonの小数を含む数値計算(浮動小数点 float)では、17桁までしか扱えません。では、もっと精度を上げるためには、どうしたら良いかというと、計算精度を任意に指定できる[decimal](https://docs.python.org/ja/3/library/decimal.html)を使うことで可能となります。    \n",
    "\n"
   ]
  },
  {
   "cell_type": "code",
   "execution_count": null,
   "metadata": {},
   "outputs": [],
   "source": [
    "import decimal\n",
    "\n",
    "decimal.getcontext().prec = 101 # 扱える桁数を指定\n",
    "\n",
    "# 関数定義式は上で紹介したものと同じものを使います。\n",
    "\n",
    "print(series1(100,decimal.Decimal(1)))"
   ]
  },
  {
   "cell_type": "code",
   "execution_count": null,
   "metadata": {},
   "outputs": [],
   "source": [
    "import sympy as sp \n",
    "\n",
    "print(sp.E)\n",
    "\n",
    "sympy.N(sympy.E, 101)"
   ]
  },
  {
   "cell_type": "markdown",
   "metadata": {},
   "source": [
    "sympyの数学定数$e$を表示させてみますと、100桁まで一致していることがわかります。"
   ]
  },
  {
   "cell_type": "markdown",
   "metadata": {},
   "source": [
    "## 演習問題 Exercises\n",
    "\n",
    "#### 1. 身長と体重を入力して、肥満度を判定し、平均な体重との差を示すプログラムを作りなさい。  \n",
    "肥満度を示す指標を、[BMI (Body Mass Index)](https://ja.wikipedia.org/wiki/ボディマス指数)と言い、次のように定義される。\n",
    "\n",
    "$身長 h (m)$で、$体重 w (kg)$の方のBMIは、  \n",
    "$$BMI = \\frac{w}{h^2}$$  \n",
    "と表すことが出来ます。また、肥満度は次のようになります。\n",
    "\n",
    "| 状態 condition         | BMI数値 BMI index|  \n",
    "| :-----------------:   | :-------------:  |  \n",
    "| 痩せすぎ too skinny    |  16.00未満       |\n",
    "| 痩せ thin             | 16.00以上17.00未満 |\n",
    "| 痩せ気味 slightly thin | 17.00以上18.50未満 |\n",
    "| 普通 normal            | 18.50以上25.00未満 |\n",
    "| 過体重 pre-obesity     | 25.00以上30.00未満 |\n",
    "| 肥満（1度）obesity I    | 30.00以上35.00未満 |\n",
    "| 肥満（2度）obesity II    | 35.00以上40.00未満 |\n",
    "| 肥満（3度）obesity III   | 40.00以上        |  \n",
    "\n",
    "1. 身長$h(m)$と体重$w(kg)$を入力する。  \n",
    "1. 上記のBMIの計算式からBMIを計算する。  \n",
    "1. 以下の式から適性体重を計算する。  $sw = h^2 \\times 22$\n",
    "1. BMIの値をもとに上の表から肥満度の判定を行う。\n",
    "1. 判定結果と標準体重を表示する。\n",
    "1. 体重と標準体重の差を示す。 \n",
    "\n"
   ]
  },
  {
   "cell_type": "code",
   "execution_count": null,
   "metadata": {},
   "outputs": [],
   "source": [
    "#演習問題1 BMIの計算\n",
    "\n",
    "\n"
   ]
  },
  {
   "cell_type": "markdown",
   "metadata": {},
   "source": [
    "#### 2. 九九の表を揃えて表示する。  \n",
    "\n",
    "% 演算子を使うと、桁を揃えて数字や文字を表示することが出来ます。\n",
    "\n",
    "`# 3桁の数字を表示する。  \n",
    "print(\"%3d\" % 数字)`  \n",
    "\n",
    "上記を使って、機器の表の桁を揃えてきれいに表示するようにしなさい。\n"
   ]
  },
  {
   "cell_type": "code",
   "execution_count": null,
   "metadata": {},
   "outputs": [],
   "source": [
    "#演習問題2 九九の表を整える\n",
    "\n",
    "\n"
   ]
  },
  {
   "cell_type": "markdown",
   "metadata": {},
   "source": [
    "> 【一口メモ】　Jupyter Notebook (Python)の組込関数\n",
    "print()は、Jupyter Notebookでは基本的な関数ですが、\n",
    "これ以外にもいろいろあります。\n",
    "詳しくは、こちらの[組込関数](https://docs.python.org/ja/3/library/functions.html#print)を\n",
    "ご覧ください。\n",
    "\n",
    "> 【参考】 [Pythonのprintの書式と使い方の具体例](https://www.headboost.jp/python-print/)\n",
    "\n"
   ]
  },
  {
   "cell_type": "markdown",
   "metadata": {},
   "source": [
    "#### 3. while文を使い、1から20までの合計を求めるプログラムを作る。"
   ]
  },
  {
   "cell_type": "code",
   "execution_count": null,
   "metadata": {},
   "outputs": [],
   "source": [
    "#演習問題3 1から20までの合計を計算する\n",
    "\n",
    "\n"
   ]
  }
 ],
 "metadata": {
  "kernelspec": {
   "display_name": "Python 3",
   "language": "python",
   "name": "python3"
  },
  "language_info": {
   "codemirror_mode": {
    "name": "ipython",
    "version": 3
   },
   "file_extension": ".py",
   "mimetype": "text/x-python",
   "name": "python",
   "nbconvert_exporter": "python",
   "pygments_lexer": "ipython3",
   "version": "3.8.10"
  },
  "latex_envs": {
   "LaTeX_envs_menu_present": true,
   "autoclose": false,
   "autocomplete": true,
   "bibliofile": "biblio.bib",
   "cite_by": "apalike",
   "current_citInitial": 1,
   "eqLabelWithNumbers": true,
   "eqNumInitial": 1,
   "hotkeys": {
    "equation": "Ctrl-E",
    "itemize": "Ctrl-I"
   },
   "labels_anchors": false,
   "latex_user_defs": false,
   "report_style_numbering": false,
   "user_envs_cfg": false
  },
  "toc": {
   "base_numbering": 1,
   "nav_menu": {},
   "number_sections": true,
   "sideBar": true,
   "skip_h1_title": false,
   "title_cell": "Table of Contents",
   "title_sidebar": "Contents",
   "toc_cell": false,
   "toc_position": {},
   "toc_section_display": true,
   "toc_window_display": false
  }
 },
 "nbformat": 4,
 "nbformat_minor": 4
}
