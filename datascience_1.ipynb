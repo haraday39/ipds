{
 "cells": [
  {
   "cell_type": "markdown",
   "metadata": {},
   "source": [
    "　　***実践データサイエンス入門　　Introduction to Practical Data Science***　　\n",
    "\n",
    "# 第1回 JupyterLabの設定 Set-up of JupyterLab"
   ]
  },
  {
   "cell_type": "markdown",
   "metadata": {},
   "source": [
    "## 始めに Introduction to the course  \n",
    "\n",
    "　これから8回にわたり実践データサイエンス入門の講義を行います。講義参加にあたり用意するものは次の通りです。文章中の下線のある青字を、[クリック(click)](http://e-words.jp/w/クリック.html)すると、関係する情報をインターネットで閲覧することが出来ます。\n",
    " \n",
    "　この講義は、データサイエンスに親しむための基礎から学ぶ構成をとっています。データサイエンスを行うための標準的な道具である[Jupyter notebook (JupyterLab)](https://qiita.com/szk3/items/920fd3e905ed16469780)を使い、プログラミング、アルゴリズム、データ、データ解析などを習うものです。Jupyter notebook (Lab)は、[オープンソースソフトウェア (Open source software, OSS)](https://ja.wikipedia.org/wiki/オープンソースソフトウェア)であり、無料で使うことが出来ます。第1回の講義として、このJupyter notebook (Lab)の説明と利用方法について説明致します。\n",
    "\n",
    "> **【一口メモ】Jupyter notebookとJupyterLabの違い**\n",
    "[Jupyter notebook](https://jupyter.org)は、Webブラウザーを用いて、さまざまな[データサイエンス](https://tinyurl.com/yyw5p942)を実行する環境です。Jupyter notebookの次の世代として、[JupyterLab](https://jupyterlab.readthedocs.io/en/stable/)が開発されてきました。\n",
    "\n",
    "\n",
    "　Jupyter notebookの設定を行うと、皆さんの[ウェブ・プラウザー web browser](https://tinyurl.com/vwu742d6)が万能の武器となります。これまで、Webブラウザーは、単なる[Web](https://e-words.jp/w/Web.html)サイトを見るための道具と考えてきたかもしれませんが、計算、グラフ描画、表作成、データ分析、更に論文作成など様々な用途に使えるようになります。このようにWebプラウザーは、さまざまな情報のやりとりを行う場所で、[フロントエンド(front-end)](https://tinyurl.com/3ec2psys)と呼びます。これに対して、実際に裏側で情報処理を行う場所を[バックエンド (back-end)](https://tinyurl.com/hp747ss4)と呼びます。この講義では、バックエンドのJupyterLab(Jupyter Notebook)の設定方法に関して、いくつかの方法を提供します。皆さんが必要と考える方法を選んで下さい。\n",
    "\n",
    "\n",
    "### 【講義を受けるための準備】\n",
    "- オンライン講義で使うZoomの設定　　オンラインでの講義では[Zoom](https://zoom.us)を使います。各自のコンピュータからインターネットにアクセスして、[Zoom](https://zoom.us)を視聴が出来るように準備して下さい。WebブラウザーでZoomにアクセスすることもできますが、お持ちのコンピュータにZoomソフトウェアをダウンロードしてインストールしておく方が便利です。Zoomソフトウェアは無料です。また、Zoomは、かなり頻繁に機能向上やセキュリティ対策のアップデートを行っています。アプリケーションをダウンロードしたならば、1週間に1回は、「アップデートの確認」を行ってください。\n",
    "\n",
    " **出席の確認は、Zoomの接続から確認します。** このため、Zoom接続後に**Zoomの名前は、必ず「学籍番号 氏名（Student ID & Your full name)」に変更してください。**   \n",
    " \n",
    " 【参考】[Zoomの名前変更の方法！PCとスマホそれぞれのやり方](https://aumo.jp/articles/797152)\n",
    "\n",
    "- インターネット接続環境の確保　　講義を受けるためには、インターネットに接続されていることが必要です。学内からのインターネットへのアクセスは、下記の無線LAN(WiFi)アクセス設定を行ってください。それ以外の場所では、WiFiが使えるようにしてください。スマートフォンを使った[テザリング](https://time-space.kddi.com/ict-keywords/20191223/2800)を使うことで、皆さんのラップトップをインターネットに接続することは可能ですが、かなりの費用が発生することや、接続速度も遅いために推奨しません。また、テザリングについては、お使いの通信事業者に申し込みをする必要があります。\n",
    "\n",
    "- 九州大学無線LANアクセスの設定　　[無線LAN接続サービス(kitenet)](https://www.nc.kyushu-u.ac.jp/net/kitenet/)に従って設定ください。設定には、[ユーザーID(SSO-KID)とパスワード](https://web.sso.kyushハードウェア最低条件u-u.ac.jp)を取得されていることが必要です。  \n",
    "\n",
    "- コンピュータ端末　　[OS (Operation System)](https://www.sejuku.net/blog/6084)は、Windows、Mac、あるいはLinuxやUnixなどなんでも結構です。講義では、クラウド上に置かれた講義資料を、Dockerを使い皆さんの端末にそれぞれ個別のJupyterLab (or Jupyter notebook)環境を構築して、それをwebブラウザーから操作します。このため、WiFiを使ってインターネットにアクセス出来る環境（学内では、[kitenet](https://www.nc.kyushu-u.ac.jp)に接続）が必要です。ご自身の端末にJupyterLab (Jupyter notebook)をインストールする場合には、使用しているOSは、64ビットである必要があります。また、Windows10 Homeよりも、Windows10 Proの方が使いやすいです。もちろんWindows10 Homeでも構いません。\n",
    "\n",
    "\n",
    "【ハードウェア最低条件】\n",
    "コンピュータのハードウェア条件を記します。**スマートフォンや、iPadでは使えません**\n",
    "\n",
    "- メモリ： 4GB（8GBが望ましい。4GBの場合、Dockerの設定を変更する必要がある）\n",
    "- ハードディスク未使用領域：　15 GB（インストールするJupyter notebookのソフトウェアは最低5GBが必要。）\n",
    "- CPU： Intel Core M3 CPU　（第6世代以降(2015年8月以降）のCPUが望ましい）   \n",
    "- OS(Operation System)：　Windows, MacOS, Linux, Unix等なんでも良いが、64ビット対応であること *iOSやAndroldは不可*\n",
    "\n",
    "> **【一口メモ】オペレーションシステムでの32ビット、64ビットとは何？** オペレーションシステムでは、よく32ビット(32 bit)と64ビット(64 bit)という名称が出てきます。ビット(bit)とは、扱うデータの大きさを示しています。コンピュータは、[二進法](https://tinyurl.com/4epttude)により数が表記されます。このため、1ビットは、十進法での「0と1」を表し、2ビットは、「3,2,1,0」を表します。従って、32ビットは、32桁の二進法ですから、4,294,967,296の数を扱うことが出来ます。また、64ビットでは、18,446,744,073,709,551,616までの数を扱えます。64ビット対応になってきたのは、2010年頃です。それまでは、32ビットが主流でした。32ビットは、42億までの数を扱えますまで、通常の計算では現在でも問題ありません。では、なぜ、64ビットが出てきたのでしょうか？この理由の一つは、データを格納する[ハーデディスク(HD)](https://tinyurl.com/rwjyytyt)や[SSD (Solid State Drive)](https://tinyurl.com/7va4rkt4)などの[メモリ](https://tinyurl.com/3w4t5c3c)の大きさです。32ビットでは、4Gビットまでしかの情報しか扱えません。ご存知のようにラップトップのハードディスクやSSDは、128GB（ギガバイト）にもなり、多数のデータを扱う必要があるために、64ビットが必要となってきました。32ビットと64ビットの違いは、データの大きさだけではありません。皆さんの使うアプリケーションソフトウェア、例えばマイクロソフト社のWordやExcelは、32ビット対応と64ビット対応は別になっています。32ビットOSでは、64ビット対応のソフトウェアは動作しません。このため注意が必要です。但し、64ビットOSでは、32ビットのソフトウェアも動作する（[下位互換](https://tinyurl.com/wxutf3bd)と呼ぶ）ようになっています。\n",
    "\n",
    "\n",
    "> **【一口メモ】ビット(bit)、バイト(Byte）の違い** ビットは、情報の単位です。バイトとビットの関係は、**8 ビット(bit) = 1 [バイト(byte)](https://tinyurl.com/tccdw5v2)**となります。例えば、ハードディスクの容量は1TBと書かれていますが、これは1テラバイトのことです。大文字のBはバイトを示します。  \n",
    "\n",
    "   \n",
    "### 【各講義前の準備】  \n",
    "\n",
    "- 講義資料の事前ダウンロード　　講義の前に、ご自身のラップトップに、Moodleから講義の資料をダウンロードします。講義資料は、xxx.ipynbというJupyter notebookファイルとそれに関係する画像ファイル、そして講義の要点をまとめた資料や関係文献などのpdf等の資料です。講義の中で、主として使うのが、xxx.ipynbというファイルになります。　　　  \n",
    "\n",
    "- 講義環境へのアクセス　　[実践データサイエンス入門](https://ipds.quantum.jp/hub?next=%2Fuser-redirect%2Fgit-pull?repo%3Dhttps%253A%252F%252Fgithub.com%252Fharaday39%252Fipds%26branch%3Dmain%26urlpath%3Dlab%252Ftree%252Fipds%252F%253Fautodecode)をクリックしてください。\n",
    "\n",
    "- 講義環境へのログイン　　講義で使うJupyterLab (Jupyter Notebook)のログイン画面が下のように立ち上がります。　 　\n",
    "\n",
    "<img src=\"images/jupyterhub_login.png\" alt=\"Jupyterhub login\" style=\"width: 600px;\" align=\"center\"/>\n",
    "\n",
    "\n",
    "\n",
    "　　Username: 各自の学籍番号  your student ID  \n",
    "　　Password: 好きなパスワード  preferable password\n",
    "\n",
    "を入れてください。パスワードは、この講義でずっと使います。**忘れないようにメモを取ってください。** UsernameとPasswordの入力が終わったら、**Sign In**を押してください。　　\n",
    "すると、横線バーが動き出して、しばらく経つと、次のような画面が見えます。これで、JupyterLabの環境は出来ました。\n",
    "\n",
    "<img src=\"images/jupyterlab_1.png\" alt=\"JupyterLab console\" align=\"center\"/>\n",
    "\n",
    "\n",
    "\n",
    "\n",
    "\n",
    "\n",
    "**【注意】しばらく作業をせずに、そのままにしておきますと、接続が切れて使えなくなります。その場合は、再度最初から始めてください。**\n",
    "\n",
    "\n",
    "#### 【参考】講義で使うJupyter Notebookの構築方法  \n",
    "　講義で使うJupyterLab (Jupyter notebook)は、次の二つの方法で利用可能です。\n",
    "1. クラウド上のJupyterHub server + Docker上に構築されたGitHubを使う。　講義の[URL](https://ja.wikipedia.org/wiki/Uniform_Resource_Locator)は、裏ではこのような仕組みが動いています。講義期間中は、いつでも使えるように開放しますが、講義後は使用出来ません。皆さんの利用に際しての費用が発生するためです。永続的にJupyterLab (Jupyter notebook)を使いたい場合には、次に紹介するJupyter notebookをご自身のコンピュータにインストールすることを推奨いたします。\n",
    "1. ご自身のラップトップにJupyter Notebookを設定する。　Anaconda社の無料製品を利用してインストールする方法が簡単ですので、ご紹介します。"
   ]
  },
  {
   "cell_type": "markdown",
   "metadata": {},
   "source": [
    "## 講義の目標 Objectives of the lecture  \n",
    "\n",
    "　この講義は、皆さんのような21世紀の科学者や技術者に**必須**となる[データサイエンス](https://ja.wikipedia.org/wiki/データサイエンス)について、実践的な取り組みの中で理解を深めてもらうことを意図しています。データサイエンスという言葉に馴染みのない方も多いかもしれません。また、なぜ皆さん方がデータサイエンスを習う必要があるのかが明確には分からないかもしれません。これらの疑問は、講義を通じて明らかにしていきます。データサイエンスでは、さまざまなデータをソフトウェアを用いて分析することで、データの持つ意味を明らかにしたり、そこから知見を得たりします。この講義では、[オープンソースソフトウェア](https://ja.wikipedia.org/wiki/オープンソースソフトウェア)の[Jupyter notebook](https://jupyter.org) を使います。 \n",
    "\n",
    "　This lecture course provides you the comprehensive understanding of [Data Science](https://en.wikipedia.org/wiki/Data_science) through a practical engagement, which is the basis for scientist and engineers in the 21st century. You may not be familiar with the wording of *data science* or do not understand why we have to learn *data science*. The lecture course answers you these questions through the course lessons. Data science is to reveal the meaning of data through analysing the data by software and gives us the insight of data sets. In this course, the [open source software](https://opensource.com/resources/what-open-source), [Jupyter notebook](https://jupyter.org) is used for learning data science."
   ]
  },
  {
   "cell_type": "markdown",
   "metadata": {},
   "source": [
    "## 講義の内容  \n",
    "\n",
    "　今後の講義の内容は、次の通りです。 The following is the contents of lectures.\n",
    "\n",
    "\n",
    "1. **第1回 JupyterLabの設定　Set-ups of JupyterLab**   \n",
    "1. **第2回 JupyterLabで計算　Caluculation by JupyterLab**   \n",
    "1. **第3回 アルゴリズムとは？　What is algorithm?**   \n",
    "1. **第4回 プログラミングの基礎　Basis of programming**   \n",
    "1. **第5回 オブジェクトの基礎　Basis of Object**\n",
    "1. **第6回 データサイエンティストへの道  Road to a data scienist**　\n",
    "1. **第7回 データサイエンス応用　Applications on data science**\n",
    "1. **第8回 レポート Report**"
   ]
  },
  {
   "cell_type": "markdown",
   "metadata": {},
   "source": [
    "## コンピューターについて What is a computer?   \n",
    "\n",
    "　皆さんは、コンピューターをお持ちになっていますか？これからの講義には毎回必要ですので、必ず持参してください。 \n",
    "　さて単純な質問ですが、**「コンピューターは、どのように動くか？」**ご存知ですか？そんなことは当たり前と思う方も少しお付き合いください。\n",
    "\n",
    "### コンピューターの構成  Computer architecture\n",
    "\n",
    "　コンピューターは、[ハードウェア(hardware)](https://ja.wikipedia.org/wiki/パーソナルコンピュータ#ハードウェア)と呼ばれる電子回路などから成り立つ物理的な装置（機器）と、[ソフトウェア(software)](https://ja.wikipedia.org/wiki/ソフトウェア)と呼ばれるハードウェアを使って、さまざまな作業をさせるプログラム（命令）からできています。ハードウェアは、入力装置、記憶装置、演算装置、制御装置、出力装置の5つから出来ています。入力装置は、キーボード(keyboard）などのように数字、文字、記号などを指で押して入れるもの、マウスやトラックパッドと呼ばれるポインターを使って操作するものです。最近は、タッチパネルという指やペンで入力できるものもあります。出力装置は、文字や画像を映し出すディスプレイや紙に印刷するプリンターがあります。記憶装置、演算装置、制御装置は、コンピューターの本体を指すもので、記憶装置は、ハードディスクやSSD(solid state device)と呼ばれる補助記憶装置と、メモリと呼ばれる演算に使われるために呼び出される情報として記録しておく主記憶装置があります。演算装置は、[CPU（中央演算処理装置, Central Processing Unit）](https://ja.wikipedia.org/wiki/CPU)とも呼ばれるもので、実際に計算を行う場所です。また、制御装置は、この5つの装置の動作を制御する装置で、CPUや[GPU（グラフィックス演算処理装置, Graphics Processing Unit）](https://ja.wikipedia.org/wiki/Graphics_Processing_Unit)が担っています。更に詳しくは、[こちら]の解説(https://elite-lane.com/computer/)をご覧ください。  \n",
    " \n",
    "\n",
    "### ソフトウェアとは？　　How about software?\n",
    "\n",
    "　次にハードウェアを実際動かすソフトウェアとはどのようなものでしょうか？コンピューターでは、綺麗に文章を仕上げたり、またさまざまな計算を行い、その結果をグラフや表にしたり、素敵なデザインを作ったり、あるいは絵を描いたり、さらにゲームをしたりと、さまざまなことが可能です。このようなハードウェアを使うためとしてソフトウェアがあります。コンピュータの命令は、0と1という2進数で出来ており、この数字を組み合わせて、足し算や引き算をすることで、様々な動作をさせています。  \n",
    " \n",
    " >更に詳しく勉強したい方は、次のwebの記事をご覧ください。\n",
    "- [プログラムが動く仕組み（第1回）ハードウエアの基礎と2進法(1)](https://xtech.nikkei.com/it/members/ITPro/ITBASIC/20000929/2/)  \n",
    "- [プログラムが動く仕組み（第2回）ハードウエアの基礎と2進法(2)](https://xtech.nikkei.com/it/members/ITPro/ITBASIC/20001002/2/)  \n",
    "- [プログラムが動く仕組み（第3回）プログラミング言語とプログラミング手法(1)](https://xtech.nikkei.com/it/members/ITPro/ITBASIC/20001003/1/)  \n",
    "- [プログラムが動く仕組み（第4回）プログラミング言語とプログラミング手法(2)](https://xtech.nikkei.com/it/members/ITPro/ITBASIC/20001004/2/)  \n",
    "- [プログラムが動く仕組み（第5回：前編）OSとアプリケーションの関係](https://xtech.nikkei.com/it/members/ITPro/ITBASIC/20001005/1/)  \n",
    "- [プログラムが動く仕組み（第5回：後編）OSとアプリケーションの関係](https://xtech.nikkei.com/it/members/ITPro/ITBASIC/20001005/2/)  \n",
    "- [コンピュータの仕組み　第1回 ハードウエアの構成要素](https://xtech.nikkei.com/it/free/ITPro/ITBASIC/20040331/2/)\n",
    "- [コンピュータの仕組み　第2回 2進数の世界](https://xtech.nikkei.com/it/free/ITPro/ITBASIC/20040406/1/)\n",
    "- [コンピュータの仕組み　第3回 符号化](https://xtech.nikkei.com/it/members/ITPro/ITBASIC/20040414/1/)\n",
    "- [コンピュータの仕組み　第4回 マシン語とアセンブラ](https://xtech.nikkei.com/it/members/ITPro/ITBASIC/20040414/2/)\n",
    "- [コンピュータの仕組み　第5回 BIOS，OS，アプリケーション](https://xtech.nikkei.com/it/members/ITPro/ITBASIC/20040414/3/) \n",
    "\n",
    "### プログラミングとは？　　How about programming?  \n",
    "\n",
    "　この問いかけは、講義に参加されている大抵の方にとっては自明なことかもしれませんが、敢えて尋ねます。「プログラミングとはなんですか？」。答えが浮かばない方は、こちらを[ご覧](https://www.sejuku.net/blog/2100)ください。コンピューターに、皆さんが行いたい作業の手順を指示する文章を書くことをプログラミングと言います。  \n",
    "　指示の出し方もいろいろとあります。実際、日本語を話す方、英語を話す方では指示の表現の仕方が異なります。プログラミングでも同様で、様々な[プログラミング言語](https://ja.wikipedia.org/wiki/プログラミング言語)があります。私が学生だった時には、[機械語、マシン語](https://xtech.nikkei.com/it/members/ITPro/ITBASIC/20020522/1/)と呼ばれる数字とアルファベットの羅列もありました。皆さんのお使いになるプログラム言語もこのようなマシン語を人間に分かるように翻訳したものなのです。  \n",
    "　さて、プログラミング言語を深く理解できれば、優れたプログラムを作成できるでしょうか？答えは、\"NO\"です。プログラム言語は、言葉です。その言葉をコンピュータが理解してもらうことは必要ですが、それ以上に上手く指示を出すことも重要です。この指示を出す定型を、[アルゴリズム(algorhism)](https://ja.wikipedia.org/wiki/アルゴリズム)と言います。人間と違い、コンピューターは自分で判断ができません。したがって、指示の出し方であるアルゴリズムが不正確であるならば、計算して出てくる答えも不正確になります。ですので、問題を解くためには、アルゴリズムはとても重要です。こちらの[アルゴリズムの説明例](http://research.nii.ac.jp/~uno/algo_3.htm)をご覧ください。\n",
    "\n",
    "> **【一口メモ】プログラミング言語(programming language)**  \n",
    "プログラミング言語は、時代に従って移り変わってきた。昨年度IEEE (Institute of Electrical and Electronics Engineers)が発表した[ランキング](https://spectrum.ieee.org/computing/software/the-top-programming-languages-2019)では、Pythonが首位、二番目にJava、三番目がC言語である。言語により、様々な特徴があるが、まずは講義で使うPythonに習熟して欲しい。一つの言語を習得すれば、他の言語も楽に身に付けることが出来る。  \n",
    "\n",
    "\n",
    "\n",
    "> **【一口メモ】プログラミングと圏論(catebory theory)**  \n",
    "プログラムを突き詰めていくと、人間の思考の仕方に行き着きます。このような活動をうまく表現する仕方として、[圏論(catebory theory)](https://ja.wikipedia.org/wiki/圏論)という数学分野があります。抽象的であるために応用範囲は広いですが、理解することが難しくもあります。プログラムへの圏論の適用については、[こちら](https://qiita.com/inamiy/items/9af1da1faec22cd968f0)をご覧ください。今は難しいかもしれませんが、将来深くプログラミングが勉強したくなった時には、是非、圏論を勉強してください。  \n",
    "\n"
   ]
  },
  {
   "cell_type": "markdown",
   "metadata": {},
   "source": [
    "##  Jupyter notebookとは？  How about Jupyter notebook?  \n",
    "\n",
    "<img src=\"images/jupyterlogo.png\" alt=\"Jupyter Logo\" style=\"width: 85px;\" align=\"left\"/>  \n",
    "\n",
    "&nbsp;&nbsp;&nbsp;&nbsp;&nbsp;Jupter notebookとは、インタラクティブなコンピューティングを行うWebベースのノートブック環境です。少し面食らわれた方もいるかもしれませんね。プログラム言語ではなく、ノートブック環境？とは。  \n",
    "&nbsp;&nbsp;&nbsp;&nbsp;&nbsp;Jupyter notebookは、[オープンソースソフトウェア（OSS）](https://ja.wikipedia.org/wiki/オープンソースソフトウェア)の[Jupyterプロジェクト](https://blog.jupyter.org/welcome-to-jupyter-d59cf3c4d59d)によって進められています。  \n",
    "&nbsp;&nbsp;&nbsp;&nbsp;&nbsp;Jupyter notebookでは、ノートブック形式を用いて、段階的にプログラムを実行し、データ分析作業を行える対話型のブラウザ実行環境として利用可能です。もう少し詳しく説明しますと、Jupyter notebookとは、[フロントエンド](https://ja.wikipedia.org/wiki/フロントエンド)、すなわち、皆さんが、入力する仕組み（環境）を提供するツールなのです。また、バックエンドで処理した結果の表示（出力）も行えます。  \n",
    "\n",
    "　Jupyter Notebookでは、Webブラウザーにて、インタラクティブに「コード開発」「文書化」「実行」「結果伝達」など、計算プロセス全体を示すことが出来るWebベースのアプリケーションです。Jupyterプロジェクトの創始者である[Fernado Perez](http://blog.fperez.org/2013/04/literate-computing-and-computational.html)は、Jupyter notebookを**[Literate Computing](https://programminghistorian.org/en/lessons/jupyter-notebooks)、読み書き可能なコンピューティング**と呼んでいます。得てしてプログラムは、それを書いた本人以外には読み解くのが難しいことがよくあります。他の人が書いたプログラムを理解し、またそれを用いて新たなプログラムを作ることは、プログラムの利活用やチームでのプログラム作成には欠かせないことです。  \n",
    "\n",
    "　Jupyter notebookでは、「ノートブック」と呼ばれるドキュメントを作成し、「プログラムの記述/実行/共有」や「メモの作成/保存/共有」が可能で、セルと呼ばれるスペースにコードを入力し実行します。　　\n",
    "\n",
    "　Jupyter notebookで使われている言語は、iPython（interactive Python）を拡張したものであり、今一番ホットなプログラム言語です。 Jupyter notebookを用いて、[機械学習(machine learning)](https://ja.wikipedia.org/wiki/機械学習)や深層学習で使われる[スパースモデリング(sparse modeling)](https://ja.wikipedia.org/wiki/スパースモデリング)など、今のデータサイエンスの最前線に欠かせないツールを使うことが出来ます。また、[Python](https://www.python.jp)以外の様々な言語もJupyter notebookでは使えるのが、大きな利点です。例えば、統計解析で使われている[R言語](https://ja.wikipedia.org/wiki/R言語)や、高速で動的な科学計算が行える[Julia](https://ja.wikipedia.org/wiki/Julia_(プログラミング言語))などもJupyter notebook上で走らせることが出来るのです。 \n",
    " \n",
    " Jupyter notebookを更に進化させたものとして、JupyterLabがあります。JupyterLabは、[統合開発環境(IDE,Integrated Development Environment)](https://tinyurl.com/53b4ktad)と呼ばれ、プログラム開発に適した環境を提供します。Jupyter notebookとの違いは、操作性や作業効率だけで、基本的には同じものです。\n",
    "\n",
    "　これから皆さんと共に、データサイエンスに取り組むために、JupyterLab (Jupyter notebook)の使い方を詳しく学んでいくことになります。"
   ]
  },
  {
   "cell_type": "markdown",
   "metadata": {},
   "source": [
    "## JupyterLabに触れてみよう Let's try JupyterLab\n",
    "\n",
    "\n",
    "[JupyterLab](https://cyberagent.ai/blog/research/10260/)とは、どんなものかを確認するために、クリックしてみてください。\n",
    "\n",
    "### JupyterLabの立ち上げ Startup of JupyerLab\n",
    "\n",
    "では、JupyterLabを立ち上げてみましょう。次をクリックしてみてください。先ほど、皆さんは立ち上げているかもしれませんが、クラウドの計算リソースを無駄に浪費しないように、しばらく触らないとクラウドとの接続を切る設定となっています。多分、皆さんの画面には、接続が切れたと表示されていると思います。\n",
    "\n",
    "<img src=\"images/jupyterlab_2.png\" alt=\"JupyterLab dismiss\" align=\"center\"/>\n",
    "\n",
    "\n",
    "\n",
    "これから、再度起動させます。\n",
    "\n",
    "\n",
    "[**JupyterLabの起動** ここをクリック](https://ipds.quantum.jp/hub?next=%2Fuser-redirect%2Fgit-pull?repo%3Dhttps%253A%252F%252Fgithub.com%252Fharaday39%252Fipds%26branch%3Dmain%26urlpath%3Dlab%252Ftree%252Fipds%252F%253Fautodecode)\n",
    "\n",
    "\n",
    "起動すると、このような画面が見えるはずです。\n",
    "\n",
    "<img src=\"images/jupyterlab_1.png\" alt=\"JupyterLab console\" align=\"center\"/>\n",
    "\n",
    "\n",
    "\n",
    "### JupyterLabの画面\n",
    "\n",
    "JupyterLabのインターフェスの解説は、[ここ](https://jupyterlab.readthedocs.io/en/stable/user/interface.html)をご覧ください。\n",
    "\n",
    "\n",
    "### JupyterLabの詳細 Details of JupyterLab\n",
    "\n",
    "詳しい内容は、[JupyterLabのマニュアル (英文、English)](https://jupyterlab.readthedocs.io/en/stable/)をご覧ください。\n",
    "\n",
    "### 終了方法について\n",
    "\n",
    "ブラウザー左上にある「File」から、「Logout」（Shut down)を選択します。後は、ブラウザー閉じても構いません。\n"
   ]
  },
  {
   "cell_type": "markdown",
   "metadata": {},
   "source": [
    "### 簡単な操作\n",
    "では、実際に皆さんで計算を行ってみましょう。次に計算例が書かれています。この計算を実際に行うには、カーソルをその欄に入れて、***「シフトキー(Shift key)＋リターンキー(Return key)」*** を実行してください。"
   ]
  },
  {
   "cell_type": "code",
   "execution_count": null,
   "metadata": {},
   "outputs": [],
   "source": [
    "1+2+3+4+5+6+7+8+9+10"
   ]
  },
  {
   "cell_type": "markdown",
   "metadata": {},
   "source": [
    "瞬時に、計算結果が出てきたと思います。また、計算式には、[  ]という数字の入っていない状態でしたが、計算が終了すると、[1]と変わり、下に計算結果も同じく[1]と表示されています。これは、計算式と計算結果が[1]ということで結ばれていることを示します。　　\n",
    "では、次に2の40乗を計算してみましょう。"
   ]
  },
  {
   "cell_type": "code",
   "execution_count": null,
   "metadata": {},
   "outputs": [],
   "source": [
    "2**40"
   ]
  },
  {
   "cell_type": "markdown",
   "metadata": {},
   "source": [
    "## Jupyter notebook環境の構築　Deploy  Jupyter notebook in your computer.  \n",
    "\n",
    "　では，これからは、皆さんの端末にどのようにして、JupyterLabの環境が構築されているかを説明いたします。皆さんの講義資料は、[github](https://ja.wikipedia.org/wiki/GitHub)上に置かれています。githubは、プログラミングの共同作業を行うために最適の場所です。しかしながら、皆さんが使うことで、講義資料は変わってしまいます。このため、共通の講義資料を皆さんのそれぞれのコンピュータ上に持ってくる手段として、[コンテナ(container)技術](https://rcos.nii.ac.jp/diary/2019/09/20190927-1/)の中で、[Docker](https://www.docker.com/resources/what-container)を使っています。  \n",
    " \n",
    "Dockerを使うことで、Windows環境、Macintosh環境、Linux (Unix)環境など、物理マシンとその周辺環境に依存することなく、同じコンテナでは共通なプログラミング環境を構築出来ます。このためさまざまな環境との互換性や共通性を維持することが出来、プログラムにかかる時間を短縮することが出来ます。  "
   ]
  },
  {
   "cell_type": "markdown",
   "metadata": {},
   "source": [
    "### Dockerとは？ About Docker  \n",
    "\n",
    "<img src=\"images/dockerlogo.png\" alt=\"Docker Logo\" style=\"width: 95px;\" align=\"left\" />  \n",
    "&nbsp;&nbsp;&nbsp;&nbsp;&nbsp;[Docker](https://www.docker.com/why-docker)とは、Docker社が開発している、**コンテナ型の仮想環境**を作成、配布、実行するためのプラットフォームです。  \n",
    "&nbsp;&nbsp;&nbsp;&nbsp;&nbsp;Dockerは、[Linux](https://ja.wikipedia.org/wiki/Linux)の[コンテナ技術](https://www.atmarkit.co.jp/ait/articles/1901/29/news005.html)を活用したものです。コンテナ技術は、よく仮想マシン（VM）と比較されます。  \n",
    "&nbsp;&nbsp;&nbsp;&nbsp;&nbsp;[VMware](https://www.vmware.com/jp.html)や[Virtualbox](https://www.virtualbox.org)などの仮想マシンは、ホストマシン上で仮想OS（ハイパーバイザ）を利用して、ゲストOSを動かしてミドルウェアを動作させます。それに対して、コンテナでは、ホストマシンのカーネルを利用しながら、プロセスやユーザなどを隔離することで、あたかも別のマシンが動いているかのように一つのOSの上で動かすことができます。そのため、ゲストOSが必要ないために、軽量で高速に起動、停止などが可能となります。また、Dockerはミドルウェアのインストールや各種環境設定をコード化して管理します。これはInfrastracture as Code (IaC)と呼ばれていて、ソフトウェア開発で実施されてきた構成管理や自動化などを、サーバーの各種設定やミドルウェアのインストールなどにも適用したものです。下に仮想マシン（VM）とコンテナとの違いを記しました。　　\n",
    "\n",
    "<img src=\"images/vm_container.png\" alt=\"VM vs. Container\" style=\"width: 600px;\" />  \n",
    "\n",
    "\n"
   ]
  },
  {
   "cell_type": "markdown",
   "metadata": {},
   "source": [
    "## ターミナルとコマンド  Terminal & Command\n",
    "\n",
    "　講義で使うアプリケーションとして、最近の[GUI(Graphiscal User Interface)](https://ja.wikipedia.org/wiki/グラフィカルユーザインタフェース)では、なかなかお目にかかれないターミナルと、Webブラウザーを使います。初めて、コマンドを打つ方もいるかもしれませんね。是非、プログラマーの気分を味わって下さい。\n",
    "\n",
    "- ターミナル　　Windowsの場合には、コマンドプロンプト（cmd.exe）ないしは、パワーシェル（Powershell.exe）からDockerを操作して、Jupyter notebookを立ち上げます。Macの場合は、ユーティリティ・フォルダにあるターミナル（terminal.app）を使います。それぞれの使い方は、下のリンク先のWebを参照して学んで下さい。  \n",
    "\n",
    "> ターミナルの使い方：WINDOWS編\n",
    "- コマンドプロンプト　[コマンドプロンプトの使い方](https://techacademy.jp/magazine/5318)\n",
    "- パワーシェル　[パワーシェル（バワーシェルコア）](https://www.pc-koubou.jp/magazine/12142)\n",
    "\n",
    "> ターミナルの使い方：MAC編\n",
    "- ターミナル　[ターミナルの使い方](https://techacademy.jp/magazine/5155)\n",
    "\n",
    "\n",
    "- Webブラウザ-　　Chrome、Firefox等、ご自身が普段使っている標準設定(デフォルト, default）のブラウザーを使います。\n",
    "\n",
    "> **【一口メモ】リンクを張る**    \n",
    "この講義資料では、たくさんのリンクを張っています。*リンクを張る*とは、[ハイパーリンク](https://ja.wikipedia.org/wiki/ハイパーリンク)をつけることで、[ハイパーテキスト（通常、下線のある青字）](https://ja.wikipedia.org/wiki/ハイパーテキスト)から、関連する参照情報（文字、画像等）に移る機能を指しています。このようなリンクを張ることには、参照したwebページの持ち主の許可が必要でしょうか？  \n",
    "答えは、必要はありません。[無断リンク](https://ja.wikipedia.org/wiki/無断リンク)という言葉をお聞きになった方があるかもしれませんが、Webの性格上、リンクを張ることはリンクを作る方の判断だけで進めて良いものであり、[経済産業省も著作権に触れない](https://oku.edu.mie-u.ac.jp/~okumura/compedu/?%A5%EA%A5%F3%A5%AF%A4%CB%B5%F6%B2%C4%A4%CF%C9%D4%CD%D7%A4%C7%A4%B9)ことを示しています。但し、リンク先が[公序良俗](https://kotobank.jp/word/公序良俗-62352)に反すること、例えば、海賊版の書籍や音楽、ビデオなどの場所にリンクを張ることは処罰の対象となります。  \n",
    "\n",
    "\n",
    "> **【一口メモ】カーネル、シェルとターミナル**\n",
    "皆さんが普段使うマウスやトラックパッドを使ったGUI（Graphycal Unser Interface）では、あまり意識することはないが、コンピュータを動作させるOS(Operating System)を扱う仕組みとして、カーネル(kernel)とシェル(shell)、そしてターミナル(terminal)がある。カーネルとシェルを日本語に訳せば、核と殻になる。カーネルは、まさにCPUを指す。例えば、クアッドコア（4 Core）のCPUであれば、カーネルは4つあることになる。カーネルを包むシェルは、OSと対話するためのインターフェスであり、ユーザーからの命令（コマンド）をCPUが理解出来る機械語に翻訳する等の環境を整えるものである。ターミナルは、ユーザがCPUに命令を送り、その結果を確認するインターフェスである。こう見てくると、シェル・コマンドを列記したシェルスクリプトは一種のプログラムであることがわかる。  "
   ]
  },
  {
   "cell_type": "markdown",
   "metadata": {},
   "source": [
    "## コンピュータへのJupyterLabの設定　　Installation of JupyterLab\n",
    "\n",
    "ご自身の環境に、JupyterLab (Jupyter notebook)を設定するためには、[Anaconda](https://tinyurl.com/24xtkney)社のパッケージを使うのが一番簡単です。\n",
    "- Anaconda無料版（個人版）のダウンロード　[anaconda](https://www.anaconda.com)にアクセスして、Products(製品)の中にある[Individual Edition版](https://www.anaconda.com/products/individual)をダウンロード(download)してください。Individual Editionは無料で使うことが出来ます。\n",
    "\n",
    "> **【一口メモ】Anacondaとminiconda**  Anacondaは、python以外にR、そしてpandasやMatplotlibなどの1000種類以上のライプラリ等を、皆さんのコンピュータにインストールし、*約3GB* のファイルサイズがあります。場合によっては、必要なものを後で自分でインストールすることで、もっち小さなシステムを作ることが出来ます。これを、minicondaと呼んでいます。minocondaは、[こちら](https://docs.conda.io/en/latest/miniconda.html)からダウンロード出来ます。\n",
    "【参考】[AnacondaとMinicondaの比較](https://insilico-notebook.com/anaconda-vs-miniconda/)\n",
    "  \n",
    "- Anacondaのインストール ダウンロードしたファイルをクリック（ダブルクリック）して、インストールを行います。\n",
    "\n",
    "- Anacondaの起動　[Anaconda-Navigator](https://docs.anaconda.com/anaconda/navigator/)というアプリケーションを実行することで、JupyterLab (Jupyter notebook)を起動させることも出来ますが、ターミナルを立ち上げて、次のように入力して、リターンを推す方が簡単かもしれません。\n",
    "\n",
    "`> jupyter lab` or `> jupyter notebook`    \n",
    "\n",
    "- JupyterLab (Jupyter notebook)の最新化　Jupyterは、[オープンソースコミュニティ](https://tinyurl.com/w6t322hx)によって維持管理されており、常に新たしくなっています。このために、定期的(例えば、2週間に1回）に、ソフトウェアの状態を最新にする必要があります。このために使うのが、anaconda (miniconda)をインストールした時に一緒に入っている[conda](https://docs.conda.io/projects/conda/en/latest/)コマンドです。\n",
    "\n",
    "> **【注意】混ぜると危険condaとpip** システムに、新たなライブラリや言語を追加する時には、conda以外に[pip](https://www.python.jp/install/windows/pip.html)という方法もあります。pipは、pythonコミュニティで使われているアップデートや新たなソフトウェアをインストールする方法です。これに対して、condaは、pythonだけでなく、もっと幅広く、RやRuby、Java等をインストールする時に使う方法です。この2つは、全く別物です。オープンソースソフトウェアは、それだけで存在するのではなく、他のソフトウェアを使って機能を実現しているのが普通です。それぞれのソフトウェアは、名前は同じであっても、それぞれバージョンと呼ばれる、いつの時点のソフトウェアであるかをきちんと書いています。バージョンが違うと動かないことが多々あります。   \n",
    "このためお分かりになるように、condaとpipを混ぜると、同じ名前であっても動かなくなることが起こり、大変に困ったことになります。ですので、**絶対にcondaとpipの両方を使ったインストールをしないでください。**    "
   ]
  },
  {
   "cell_type": "markdown",
   "metadata": {},
   "source": [
    "## 演習問題 Exercises\n",
    "\n",
    "1. 本日の復習です。JupyterLabを再度立ち上げて、新たなファイル(Untitled.ipynb)を作成してください。そして、その中に新しいセルを作り、下記のようなプログラム文を書いて（あるいはコピー＆ペーストして）実行してください。  \n",
    "`print('Hello, World!')`   \n",
    "1.  [熟練向き] ご自身の環境に、Anacondaをインストールして、JupyterLabの環境を構築してください。\n"
   ]
  }
 ],
 "metadata": {
  "kernelspec": {
   "display_name": "Python 3",
   "language": "python",
   "name": "python3"
  },
  "language_info": {
   "codemirror_mode": {
    "name": "ipython",
    "version": 3
   },
   "file_extension": ".py",
   "mimetype": "text/x-python",
   "name": "python",
   "nbconvert_exporter": "python",
   "pygments_lexer": "ipython3",
   "version": "3.8.10"
  },
  "latex_envs": {
   "LaTeX_envs_menu_present": true,
   "autoclose": false,
   "autocomplete": true,
   "bibliofile": "biblio.bib",
   "cite_by": "apalike",
   "current_citInitial": 1,
   "eqLabelWithNumbers": true,
   "eqNumInitial": 1,
   "hotkeys": {
    "equation": "Ctrl-E",
    "itemize": "Ctrl-I"
   },
   "labels_anchors": false,
   "latex_user_defs": false,
   "report_style_numbering": false,
   "user_envs_cfg": false
  },
  "toc": {
   "base_numbering": 1,
   "nav_menu": {},
   "number_sections": true,
   "sideBar": true,
   "skip_h1_title": false,
   "title_cell": "Table of Contents",
   "title_sidebar": "Contents",
   "toc_cell": false,
   "toc_position": {},
   "toc_section_display": true,
   "toc_window_display": false
  }
 },
 "nbformat": 4,
 "nbformat_minor": 4
}
