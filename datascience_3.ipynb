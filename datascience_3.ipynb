{
 "cells": [
  {
   "cell_type": "markdown",
   "metadata": {},
   "source": [
    "　　***実践データサイエンス入門　　Introduction to Practical Data Science***　　\n",
    "\n",
    "# 第3回 アルゴリズム　Algorithm"
   ]
  },
  {
   "cell_type": "markdown",
   "metadata": {
    "tags": []
   },
   "source": [
    "## 講義の内容  \n",
    "\n",
    "　今後の講義の内容は、次の通りです。 The following is the contents of lectures.\n",
    "\n",
    "\n",
    "1. **第1回 JupyterLabの設定　Set-ups of JupyterLab**   \n",
    "1. **第2回 JupyterLabで計算　Caluculation by JupyterLab**   \n",
    "1. **第3回 アルゴリズムとは？　What is algorithm?**   \n",
    "1. **第4回 プログラミングの基礎　Basis of programming**   \n",
    "1. **第5回 オブジェクトの基礎　Basis of Object**\n",
    "1. **第6回 データサイエンティストへの道  Road to a data scienist**　\n",
    "1. **第7回 データサイエンス応用　Applications on data science**\n",
    "1. **第8回 レポート**"
   ]
  },
  {
   "cell_type": "markdown",
   "metadata": {},
   "source": [
    "## 本日のアルゴリズムの講義\n",
    "\n",
    "本日は、[AtCoder](https://atcoder.jp)より講義を行います。"
   ]
  },
  {
   "cell_type": "markdown",
   "metadata": {},
   "source": [
    "## アルゴリズム Algorithm  \n",
    "\n",
    "　[アルゴリズム algorithm](https://ja.wikipedia.org/wiki/アルゴリズム)とは、ある処理（計算）を行うための、一連の「手順」のことを指します。例えば、料理に例えるとすると「レシピ recipe」に相当します。料理のレシピによっては、早く調理が出来たり、良い味になったりいたします。同じように、アルゴリズムも、良いアルゴリズムは、例えば計算の回数を減らすことが可能となります。  \n",
    "\n",
    "　プログラムのアルゴリズムの例としては、次のようなものがあげられます。\n",
    "- 最大値の計算　　数列の中から最大値を求める\n",
    "- 文字列の検索　　文章中に特定の文字列があるかどうかを判定する\n",
    "- 画像認識　　　　画像の中から人の顔を認識する\n",
    "\n",
    "　同じ処理を行うためのプログラムであっても、実現の方法は必ずしも1つとは限りません。計算の処理方法や対象とするデータの特性に対して、最適なアルゴリズムを選択することが必要となります。正しいアルゴリズムを選択しないと、計算時間が膨大となってしまったり、アルゴリズムの前提条件を満たさないために間違った結果を得るなどの不具合が生じます。　　\n",
    " \n",
    " \n",
    " ### アルゴリズムの例 Algorithm exmaple\n",
    " \n",
    " 上で料理のレシピをアルゴリズムの例として出しました。例えば、キャベツの千切りを考えましょう。キャベツの葉を一枚づつ千切りにすることと、10枚重ねて千切りにするのでは、千切りにするための時間が大きく異なることがわかります。同じように、次の例を考えて見ましょう。\n",
    " \n",
    " 例1：サッカーチームがAからFの6チームあり、それぞれのチームにはサポーターがいます。この時、あるチームだけ除いた時の残りのサポーターの合計人数を計算してください。但し、引き算を使うことは出来ません。\n",
    " \n",
    "引き算が使える場合には、全てのチームのサポーター数の合計を求めて、そこから、1チームのサポータ数を除けば良いことになります。一度に一つのチームとの演算しか出来ない場合には、$A + B$, $(A + B) + C$、$((A+B)+C)+D、という計算を5回行い6チームのサポーターの合計数が求まります。これから、1チームずつを引くので、合計6回の計算が必要です。合わせて、5+6=11回の計算を行います。　　\n",
    "\n",
    "しかしながら、引き算ができませんので、足し算だけで進めることが必要です。例えば、Aチームのサポーターを除いて計算するとなりますと、B+C、(B+C)+D、((B+C)+D)+E、(((B+C)+D)+E)+Fの4回の計算が必要となります。これを同じようにB、Cと各チームを除いて行いますから、合計で、4x6=24回の計算が必要となります。　　\n",
    "\n",
    "今、ここで、2チームずつの足し算を行います。A+B、C+D、E+Fの3回で2チームの合計が求まります。さらに、２チームの合計の束を、隣り合った束同士で足し合わせますと、(A+B)+(C+D)、(C+D)+(E+F）、(A+B)+(E+F)の3回があります。ここで、4チームの合計が求まりましたので、それぞれに((A+B)+(C+D))+E、((A+B)+(C+D))+F、A+((C+D)+(E+F))、B+((C+D)+(E+F))、C+((A+B)+(E+F))、D+((A+B)+(E+F))の6回の計算を行うと全て求めることが出来ます。この場合、足し算は、3+3+6=12回となり、全てを計算するよりも半分の回数で計算することが出来ます。このように、アルゴリズムにより、計算量を減らせることはわかります。  \n"
   ]
  },
  {
   "cell_type": "markdown",
   "metadata": {},
   "source": [
    "## 日常生活での決断：最適停止問題 Decision making of daily life: Optimal stopping\n",
    "\n",
    "アルゴリズムは、コンピュータだけに役立つものではありません。我々の日常生活においてもアルゴリズムを活用することで、より良くすることが可能です。例えば、住む場所はどこにしようか？誰と結婚しようかという選択の決断をすることを日常生活に多々あります。例えば、最適な住む場所を見つけるためには何件ぐらい探したら良いでしょうか？不動産さんに案内してもらい、いろいろな家を見た場合、結論を出すことが難しいことがあります。あるいは、素敵な恋人に巡り合っても、もしかしたら、もっと好きて人が現れるかもしれない。などと考えることはないでしょうか？このような時に決断をするためには、みなさんはどのようにされますか？ここでは、秘書問題(the secretary problem)について説明いたします。\n",
    "\n",
    "### 秘書問題 The secretary problem\n",
    "\n",
    "優秀な秘書を雇用するためには、どうしたら良いでしょうか？ここでは、次のように問題設定を行います。\n",
    "- 【前提】　一人の優秀な秘書を採用するために、秘書の面接に応募してきた人たちに面接を行います。面接官はランダムな順番で、一人ずつ面接をしていきます。面接した応募者を採用したいと思ったら、好きなところで採用を決定することとします。また、選ばれた応募者は辞退しないこととします。このため、その時点で面接は終了となります。ただし、一度不採用として見送った応募者を後から採用することは出来ないこととします。すなわち、採否は一回のみとします。\n",
    "\n",
    "- 【目標】　この中で、もっとも優秀な人を雇うためにはどうしたら良いでしょうか？  \n",
    "\n",
    "ここで最適解を求めるルールとして、[見てから跳べルール(Look-the-leap rule)](https://quotefancy.com/quote/2633638/Brian-Christian-Look-Then-Leap-Rule-You-set-a-predetermined-amount-of-time-for-looking)があります。このLook-the-leapルールでは、最初に候補者を探す時間を設定します。その時間の中で、良いと思える候補者が現れたとしても最終判断をせずに待ちます。そして、次の*跳ぶ*時間になって、これまでの候補者よりも優れた人が現れた時点で、その人を採用することにするというものです。この時に問題になるのは、*決定に要する時間* です。例えば、応募者全員と面接をすることであれば、常に最適な選択が可能となりますが、これをなるべく短い時間で行いたいという場合に役立つルールです。\n",
    "\n",
    "具体的な例を検討してみましょう。今、候補者A, B, Cという3名がいる場合を考えます。ランダムにこの3名から選択して最良の候補者を選ぶ確率は、1/3=33%となります。   \n",
    "\n",
    "では、Look-the-leapルールを当てはめた場合を考えてみましょう。最初に面接をした方は、他の候補者とは比べることが出来ません。また、最後の3番目の方は、他に候補者がいないので、この方に決めなければなりません。したがって、2番目の方が、最初の方よりも良い場合には、そこで決定し、そうでない場合には、3番目の方にすることにするという戦略を考えることができます。したがって、*3名を選ぶのに、2名だけを面接すれば良い* ことになります。この場合の選択結果を下の表に記します。太字は、選択された方を示します。この表からわかるように、一番優れた方を雇用する確率は、3/6=50%となります。\n",
    "\n",
    "| 候補者  |&nbsp;&nbsp; I &nbsp;&nbsp;&nbsp;|&nbsp;&nbsp; II &nbsp;&nbsp;|&nbsp;&nbsp; III &nbsp;&nbsp;|&nbsp;&nbsp; IV &nbsp;&nbsp;|&nbsp;&nbsp; V &nbsp;&nbsp;|&nbsp;&nbsp; VI &nbsp;&nbsp;|    \n",
    "| :---: | :---: | :---: | :---: | :---: | :---: | :---: |\n",
    "| A      | 1     | 1     | 2    | 2     | 3     | 3     |  \n",
    "| B      | **2** | 3     | **1**| 3     | **1** | **2** |\n",
    "| C      | 3     | **2** | 3    | **1** | 2     | 1     |\n",
    "\n",
    "   \n",
    "    \n",
    "\n",
    "では、候補者の数がもっと増えていくとどうなるでしょうか？これまでの研究により、[37%ルール](https://tinyurl.com/wxdvr63x)が明らかになってきました。すなわち、全体の応募者の中から、37%の応募者を確認し、その中の最適な方を決めます。そして、次の方を面接して、これまでの方よりも良ければ、その方を雇い、そうでなければ、37%の中で選んだ方に決めるというものです。この37%の意味は何でしょうか？実は、これは、[自然対数](https://tinyurl.com/h86st3hf)や[指数関数](https://tinyurl.com/46nje842)の底(base)である[ネイピア数(Napier's constant)*e*](https://tinyurl.com/fkkrysxh)の逆数に相当します。以下にJupyterLabでのネピア数の計算を示します。  \n",
    "\n",
    "秘書問題を最初に提案したのは、米国のシンクタンクである[ランド(RAND)研究所](https://ja.wikipedia.org/wiki/ランド研究所)にいた[メリル・フラッド(Merrill Flood)](https://en.wikipedia.org/wiki/Merrill_M._Flood)です。メリル・フラッドは、[ゲーム理論](https://ja.wikipedia.org/wiki/ゲーム理論)の[囚人のジレンマ (prisoners' dilemma)](https://tinyurl.com/4jmea36v)や計算量理論のNP困難で有名な[巡回セールスマン問題 (traveling salesman problem, TSP)](https://tinyurl.com/amyhek3f)を作りだした方です。\n",
    "このように数学的・統計的モデルにしたがって計画を立てる学問を[オペレーションズ・リサーチ（英国では、オペレーショナル・リサーチ Operational Research) OR](https://tinyurl.com/3vu36w4m)と呼びます。経済学等ではよく使われています。\n",
    "\n",
    "【参考図書】   \n",
    "[アルゴリズム思考術:問題解決の最強ツール](https://www.amazon.co.jp/gp/product/4150505381)   \n",
    "[Algorithms to Live By: The Computer Science of Human Decisions](https://www.amazon.co.jp/Algorithms-Live-Computer-Science-Decisions-ebook/dp/B015CKNWJI) 　 プログラマの[Brian Christian](https://en.wikipedia.org/wiki/Brian_Christian)と認識科学と心理学の専門家である[Tom Griffiths](http://cocosci.princeton.edu/tom/index.php)が2016年に出版された本で、上の日本語訳の原著です。"
   ]
  },
  {
   "cell_type": "code",
   "execution_count": null,
   "metadata": {},
   "outputs": [],
   "source": [
    "import math\n",
    "print(\"Napier's constant e =\", math.e)\n",
    "1/math.e"
   ]
  }
 ],
 "metadata": {
  "kernelspec": {
   "display_name": "Python 3",
   "language": "python",
   "name": "python3"
  },
  "language_info": {
   "codemirror_mode": {
    "name": "ipython",
    "version": 3
   },
   "file_extension": ".py",
   "mimetype": "text/x-python",
   "name": "python",
   "nbconvert_exporter": "python",
   "pygments_lexer": "ipython3",
   "version": "3.8.10"
  },
  "latex_envs": {
   "LaTeX_envs_menu_present": true,
   "autoclose": false,
   "autocomplete": true,
   "bibliofile": "biblio.bib",
   "cite_by": "apalike",
   "current_citInitial": 1,
   "eqLabelWithNumbers": true,
   "eqNumInitial": 1,
   "hotkeys": {
    "equation": "Ctrl-E",
    "itemize": "Ctrl-I"
   },
   "labels_anchors": false,
   "latex_user_defs": false,
   "report_style_numbering": false,
   "user_envs_cfg": false
  },
  "toc": {
   "base_numbering": 1,
   "nav_menu": {},
   "number_sections": true,
   "sideBar": true,
   "skip_h1_title": false,
   "title_cell": "Table of Contents",
   "title_sidebar": "Contents",
   "toc_cell": false,
   "toc_position": {},
   "toc_section_display": true,
   "toc_window_display": false
  }
 },
 "nbformat": 4,
 "nbformat_minor": 4
}
