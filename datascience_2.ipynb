{
 "cells": [
  {
   "cell_type": "markdown",
   "metadata": {},
   "source": [
    "　　***実践データサイエンス入門　　Introduction to Practical Data Science***　　\n",
    "\n",
    "# 第2回 JupyterLabで計算　Calculation by Jupyter notebook  "
   ]
  },
  {
   "cell_type": "markdown",
   "metadata": {},
   "source": [
    "### 第1回演習問題の回答 Answers of exercises in the first lecture\n",
    "\n",
    "1. **本日の復習です。JupyterLabを再度立ち上げて、新たなファイル(Untitled.ipynb)を作成してください。そして、その中に新しいセルを作り、下記のようなプログラム文を書いて（あるいはコピー＆ペーストして）実行してください。**  \n",
    "`print('Hello, World!')`   "
   ]
  },
  {
   "cell_type": "markdown",
   "metadata": {},
   "source": [
    "- まず、新しいノートブックを作成します。   \n",
    "\n",
    "\n",
    "<img src=\"images/q1-1_1.png\" alt=\"Create new notebook\" style=\"width: 720px;\" align=\"center\"/>\n",
    "\n",
    "  \n",
    "- ここでは、[カーネル(kernel)](https://tinyurl.com/4c5935ca)としてPython 3を選びます。皆さんの使うJupyterLabの環境には、Python 3しかありませんが、例えば、RやJuliaなどをカーネルとして使うことは可能です。\n",
    "\n",
    "\n",
    "<img src=\"images/q1-1_2.png\" alt=\"Select Python 3\" style=\"width: 720px;\" align=\"center\"/>\n",
    "\n",
    "   \n",
    "- 作成された*untitled.ipynb*に、実行するプログラムを書き入れます。\n",
    "\n",
    "\n",
    "<img src=\"images/q1-1_3.png\" alt=\"Select Python 3\" style=\"width: 720px;\" align=\"center\"/>\n",
    "\n",
    "  \n",
    "- シフト・キー+リターン・キーでプログラムを実行させると、次のようになります。\n",
    "\n",
    "\n",
    "<img src=\"images/q1-1_4.png\" alt=\"Select Python 3\" style=\"width: 720px;\" align=\"center\"/>\n",
    "   \n",
    "ここで注目して欲しい点があります。第1回で行った計算の場合には、結果にも[1]という計算式に対応する番号が表示されましたが、*文字型データ*には、ないことです。"
   ]
  },
  {
   "cell_type": "markdown",
   "metadata": {},
   "source": [
    "### 第1回演習問題の回答 Answers of exercises in the first lecture\n",
    "\n",
    "2. **[熟練向き] ご自身の環境に、Anacondaをインストールして、JupyterLabの環境を構築してください。**\n",
    "\n",
    "必ず、Anaconda (miniconda)の定期的なシステム更新を行ってください。そのために使う必要があるのだ、コマンド**conda**です。\n",
    "condaの主な使い方は、[Qiita](https://qiita.com)を参照されると良いでしょう。Qiitaは、プログラマのための技術情報共有サービスです。プログラミングの情報はすぐに陳腐化するので、少し古い情報には経過時間が記載されています。\n",
    "\n",
    "- [Conda(Anaconda/Miniconda)コマンド一覧](https://qiita.com/FukuharaYohei/items/928f5b417337a5068a07)\n",
    "\n",
    "全てのanaconda(miniconda)のプログラムを更新するためには、  \n",
    "`conda update --all`   \n",
    "を実行します。個別のプログラムやライブラリのバージョンを指定して更新も可能です。また、更新を行い続けると、古いファイルが溜まりますので、定期的に削除してください。コマンドは次の通りです。    \n",
    "`conda clean --all`   \n",
    "conda自体のアップデートもあります。\n",
    "`conda update conda`\n"
   ]
  },
  {
   "cell_type": "markdown",
   "metadata": {},
   "source": [
    "## 始めに Introduction  \n",
    "\n",
    "講義で提供しているプログラム環境以外でも、Jupyterの環境を試すことは可能です。以下をクリックしてください。   \n",
    "[Jupyter デモシステム](https://jupyter.org/try)\n",
    "\n",
    "左端にある上段のまん中がJupyterLabです。その前のJupyter notbookは、前のバージョンです。今後もJupyter notebookを提供続けられると思いますので、関心があれば比べてください。火使いたいものをクリックすると、[Binder](https://qiita.com/uri/items/2dd7d208e8a253aa0d60)が立ち上がり、それぞれの用途に適した[**Docker**](https://www.docker.com) を準備します。そして、その中に基本的なJupyter notebookと必要な[プログラム言語](https://tinyurl.com/4dp5h5am)をインストールして[クラウド](https://www.internetacademy.co.jp/trends/it-strategy/merit-and-demerit-of-cloud.html) 上に設定して提供されます。\n",
    " \n",
    "<img src=\"images/jupyter_try.png\" alt=\"Try Jupyter\" style=\"width= 800px\" />  \n"
   ]
  },
  {
   "cell_type": "markdown",
   "metadata": {},
   "source": [
    "### ソフトウェアでの問題解決に必要な情報 Necessary information to solve on software\n",
    "\n",
    "ソフトウェアを活用する時や、プログラミングを作る時（[コーディング coding](https://dhw-s.com/blog/knowledge/whatis-coading/)と呼びます）などでは、うまく動かないことがおきます。この解決のための質問をよく頂きますが、以下のような情報がないと答えることが出来ません。問題の所在が、ソフトウェア自体である場合の他、そのソフトウェアが動かしている環境（ハードウェア、ソフトウェア）にも大きく依存します。\n",
    "\n",
    "- 端末情報（ハードウェア）　CPU、メモリサイズ、ネットワーク環境（WiFi, Ethernet）、付属装置（外付けHDD、メモリカード等）\n",
    "- OS情報（ソフトウェア）　バージョン\n",
    "- エラーメッセージ　エラー番号及びその内容\n",
    "\n",
    "端末情報とOS情報は、次のように知ることが出来ます。\n",
    "\n",
    "#### Windowsの場合\n",
    "1. [ スタート ] → [ Windows 管理ツール ] → [ システム情報 ] の順にクリックします。\n",
    "1. 「システム情報 」 画面が表示されます。 \n",
    "画面右側の 「 項目 」 ／ 「 値 」 欄に OS のバージョン、システムモデル ( パソコンの型番 ) 等、システムの詳細を確認することができます。\n",
    "画面左側の 「 システムの要約 」欄の [ ハードウェア リソース ] ／ [ コンポーネント ] ／ [ ソフトウェア環境 ] をクリックするとそれぞれのシステムの詳細が表示され、確認することができます。\n",
    "\n",
    "[使用中の Windows オペレーティング システムのバージョンを確認する](https://support.microsoft.com/ja-jp/help/13443/windows-which-version-am-i-running)\n",
    "\n",
    "[Windows10 - システムの詳細情報を確認・エクスポート](https://pc-karuma.net/windows-10-system-information-detail/)\n",
    "\n",
    "\n",
    "#### Macの場合\n",
    "Apple メニュー  >「この Mac について」の順に選択します。Mac の概要情報として、Mac のモデル、プロセッサ、メモリ、シリアル番号、macOS のバージョンなどが表示されます。システム情報 App でさらに詳しい情報を表示するには、「システムレポート」ボタンをクリックします。\n",
    "\n",
    "[Mac のシステム情報について](https://support.apple.com/ja-jp/HT203001)\n"
   ]
  },
  {
   "cell_type": "markdown",
   "metadata": {},
   "source": [
    "## プログラミング環境  \n",
    "\n",
    "次をクリックすることで、講義の環境が立ち上がります。   \n",
    "[**実践データサイエンス入門**](https://ipds.quantum.jp/hub?next=%2Fuser-redirect%2Fgit-pull?repo%3Dhttps%253A%252F%252Fgithub.com%252Fharaday39%252Fipds%26branch%3Dmain%26urlpath%3Dlab%252Ftree%252Fipds%252F%253Fautodecode)\n",
    "\n",
    "\n",
    "\n",
    "### プログラミング環境の確認  \n",
    "\n",
    "第1回の講義の中で、**ターミナル(Terminal)とコマンド(command)** に触れました。今回、みなさんが使われているJupyterのクラウド環境がどうなっているのかを確認しましょう。その前に、コマンドについて述べます。\n",
    "\n",
    "### コマンドについて　　About commands  \n",
    "\n",
    "　皆さんが、コンピュータを動かすためには、キーボードから入力したり、マウスやトラックバッドを使って、クリックやダブルクリックをされると思います。マウスやトラックバッドを使うような入力方法は、[GUI（graphical user interface)](https://ja.wikipedia.org/wiki/グラフィカルユーザインタフェース)と呼ばれるものです。これ以外には、[実行命令(コマンド command)](https://tinyurl.com/ajxzetzm)をキーボードから直接入力して動作させる方法を、CUI（character user inferface）と呼び、二つを合わせて[UI (user inferface)](https://tinyurl.com/np9jsm2n)と言います。GUIは、実は裏でCUIが動いており、基本的にはCUIを知ることでコンピュータの基本的な動作を理解することが出来ます。 \n",
    " \n",
    "　Windowsコマンドプロンプトのコマンドは、マイクロソフト社の[Windows Commands](https://docs.microsoft.com/ja-jp/windows-server/administration/windows-commands/windows-commands)をご覧ください。MacOSのターミナルコマンドは、[こちら](https://gist.github.com/gushernobindsme/58ddb4d7d190686ba6b5a28fdda077f4)です。MacOSのターミナルの扱い方は、[こちら](https://support.apple.com/ja-jp/guide/terminal/welcome/mac)をご覧ください。MacOSは、AT&Tベル研究所にて開発され、汎用のオペレーションシステムとして使われている[Unix](https://ja.wikipedia.org/wiki/UNIX)を基に作られています。このため、ターミナルコマンドは、Unixのコマンドと共通点が多くなっています。Linuxも、Unixを参考に作られたものです。  \n",
    " \n",
    " > **【一口メモ】LinuxとUnix**  \n",
    " 　Linuxは、フィンランドのリーナス・トーバルズがUnixを真似して作ったOSです。詳しくは、こちらの[UnixとLinuxの違い](https://eng-entrance.com/unix_linux)をご覧ください。  \n",
    "     \n",
    "\n",
    "みなさんのJupyterLabの画面の右側上部の[ブルダウンメニュー](https://tinyurl.com/d24wzh9t)から、*terminal* を下記のように選択してください。  \n",
    "\n",
    "<img src=\"images/terminal_0.png\" alt=\"Select terminal\" style=\"width: 1000px;\" align=\"center\"/>\n",
    "  \n",
    "\n",
    "\n",
    "下の頭のような[ダークモード](https://k-tai.watch.impress.co.jp/docs/column/keyword/1221968.html)が立ち上がります。\n",
    "\n",
    "次のコマンドをコピー&ペーストして、リターン(Return)キーを押してください。\n",
    "\n",
    "`python --version`    *単に、キーボードから打っても反応しません。*    \n",
    "\n",
    "\n",
    "<img src=\"images/terminal_1.png\" alt=\"Select terminal\" style=\"width: 600px;\" align=\"center\"/>\n",
    "\n",
    "\n",
    "すると、次のように   \n",
    "\n",
    "`Python 3.7.10`   \n",
    "\n",
    "と表示されます。これは、このJupyterLabの環境に、「バージョン3.7.10の[Python](https://tinyurl.com/6x3vkeea)」がインストールされていることを示しています。みなさんのクラウド環境にPythonがない場合には、`Not found`という表示が示されます。プログラムには、必ず[バージョン番号](https://www.atmarkit.co.jp/ait/articles/1003/26/news106.html)が付けられています。バージョンとは、プログラムの開発された版を示しています。最初の数字が、大きなくくりを示しており、ピリオドの次の数字が、マイナーバージョンアップを示し、最後の数字は、[リビジョン](http://e-words.jp/w/リビジョン.html)、すなわち、細かい修正や変更を加えたものを示しています。入力した`python --version`について考えてみましょう。`python --version`の中て、最初の`python`は、コマンドと呼ばれ、コンピュータに特定の機能を実行を指示する命令です。次の\"version\"は、[引数（argument）](http://e-words.jp/w/引数.html)と呼ばれています。コマンドに付随する変数を示します。引数を明示的に示すために、\"-\"や\"--\"が、引数の前に付くことがあります。プログラム言語によって、引数を示す指標は変わります。  \n",
    "\n",
    "\n",
    "> **【一口メモ】バージョン表記の豆知識**  \n",
    "バージョン表記については、いろいろな約束事があります。こちらの[記事:意外と知らないバージョン表記・数字の豆知識\n",
    "](https://www.atmarkit.co.jp/ait/articles/1003/26/news106.html)をご覧ください。  \n",
    "\n",
    "\n",
    "今度は、次のコマンドをコピー＆ペースト(Copy & Paste)してください。すると、以下のように表示されます。\n",
    "\n",
    "`conda list`   \n",
    "\n",
    "\n",
    "<img src=\"images/terminal_2.png\" alt=\"Select terminal\" style=\"width: 800px;\" align=\"center\"/>\n",
    "\n",
    "\n",
    "このリストが、みなさんのJupyterLabの環境にあるプログラムの一覧です。最初のNameの下にあるのが、プログラムの名前です。その次が、バージョン(Version)を示し、更にBuildとchannelが表示されています。\n",
    "\n",
    "### Buildとは? What is Build?   \n",
    "ソフトウェアプログラムは、コンピュータに作業をさせるための一連の手続きを示しています。このため、コンピュータに指示を出すためのコメンドとその引数に、具体的な数値や文字を入れることで作業を指示します。この時の指示の仕方は、プログラムを書くときに使う[プログラム言語](https://tinyurl.com/4dp5h5am)によって異なります。私たちが会話に、日本語を使うのか、英語を使うのかを考えてみればお分かりになると思います。プログラム言語は、コンピュータへの指示を私たちが理解しやすいように**言葉** に置き換えたものです。実際のコンピュータは、[機械語(machine language)](https://tinyurl.com/mbt732vm)によって動作します。このため、プログラム自体は、**ソースコード(source code)** と呼ばれています。このため、プログラム言語で書かれたソースコードを、実際にコンピュータが実行出来る機械語に変換することが必要となります。このような変換を[コンパイル(compile)](https://tinyurl.com/fm3utkfr)と呼びます。複雑なプログラムでは、複数のソースコードを組み合わせて、一つの実行プログラムとなっています。このため、コンパイルしたファイル同士の関係であるリンクも合わせて記録しておくことが必要です。このコンパイルとリンクを合わせたものを[**ビルド(Build)**](https://www.atmarkit.co.jp/ait/articles/1105/23/news128.html)と呼びます。\n",
    "\n",
    "### Channelとは？  What is Channel?   \n",
    "condaでは、それぞれのユーザグループが関連する一連をプログラムを集めておく[リポジトリ(repository)](https://tinyurl.com/22zzd44t)を作ることが出来ます。これをチャネル(channel)と呼んでいます。\n",
    "\n",
    "\n",
    "Terminalに次をコピー＆ペーストしてください。これが、Jupyterの環境です。\n",
    "\n",
    "`conda info`\n",
    "\n",
    "<img src=\"images/terminal_3.png\" alt=\"Select terminal\" style=\"width: 900px;\" align=\"center\"/>"
   ]
  },
  {
   "cell_type": "markdown",
   "metadata": {},
   "source": [
    "## Jupyter notebookの使い方　How to use Jupyter notebook  \n",
    "\n",
    "### Notebookの新規作成  \n",
    "\n",
    "　右端の**NEW**をクリックすると、次のようにプルダウンメニューが出てきます。  \n",
    "**Python3**を選んでください。これで、Python3が動作するNotebookを開くことが出来ます。  \n",
    "\n",
    "<img src=\"images/JupyterNotebook_1-2.png\" alt=\"Jupyter Notebook\" style=\"width= 1000px\" />  \n",
    " \n",
    "\n",
    "### Notebook 画面   \n",
    "\n",
    "　新しいタプが開き、Untitledという名前のNotebookが作成されます。下に開いたNotebookの画面を示します。  \n",
    " \n",
    " \n",
    "<img src=\"images/JupyterNotebook_1-5.png\" alt=\"Jupyter Notebook\" style=\"width= 1000px\" />  \n",
    "  \n",
    "  \n",
    "画面の上部には、メニューとよく使用するショートカットが置かれています。  \n",
    "  \n",
    "<img src=\"images/JupyterNotebook_1-6.png\" alt=\"Jupyter Notebook\" style=\"width= 1000px\" />  \n",
    "  \n",
    "  \n",
    "　画面の中央は、Notebookの作業エリアです。ゼロから作成された場合には、**Codeセル**と呼ばれるセルが1つだけ表示されます。  \n",
    "\n",
    "### Notebookの編集と評価  \n",
    "  \n",
    "　Codeセルに、式やプログラムを入力します。セルの中で、改行（Return）すると、セルの大きさが大きくなり、複数行を入力出来ます。  \n",
    "　Codeセルに入力した計算式やプログラムを、Pythonで実行することを、「セルを評価する」、または単に「評価する」と呼びます。セルを評価するには、ショートカットの「セルを評価する」をクリックするか、\"Shift\"キーを押しながら、\"Return\"キーを押すことで実行できます。  \n",
    "  \n",
    "<img src=\"images/JupyterNotebook_1-8.png\" alt=\"Jupyter Notebook\" style=\"width= 1000px\" />  \n",
    "  \n",
    "  \n",
    "　 ` In[ ] `が、入力であることを示し、セルを評価すると、` Out[ ] `が表示されます。` [  ] `の中には数字が表示されます。セルを実行するたびに数字は大きくなります。  \n",
    "   \n",
    " \n",
    " ### Notebookのセルの操作  \n",
    "   \n",
    "　新しいセルを挿入するには、ショートカットの「＋」アイコンをクリックして下さい。現在作業中のセルの下に、セルが挿入されます。新しいセルの種類は、デフォルトでは「Code」になっています。プルダウンメニューから「Markdown」を選んで下さい。  \n",
    "　` In[  ] `が消えて、下のようになります。  \n",
    " \n",
    "<img src=\"images/JupyterNotebook_1-9.png\" alt=\"Jupyter Notebook\" style=\"width= 1000px\" />  \n",
    "\n",
    " \n",
    " **Markdownセル**は、数式やプログラムの評価はできません。Markdown記法に従って、文章や数式を記述することが出来ます。Markdown記法に従って、文章や数式などを整える処理を「レンダリング(rendering)」と呼びます。  \n",
    "　Markdown記法の主なものを示します。\n",
    " \n",
    " \n",
    "| 　記述  | 記述例 | 表示例 |  \n",
    "| :----: | :---: | :---: |  \n",
    "| ヘッダ1（大見出し）| # 2. イントロダクション | <h1>イントロダクション</h1> |    \n",
    "| ヘッダ2（中見出し）| ## 2.1 Jupyterとは | <h2>Jupyterとは</h2> |   \n",
    "| ヘッダ3（小見出し）| ### 2.1.1  Jupyterの歴史 | <h3>Jupyterの歴史</h3> |   \n",
    "| 太文字（Bold） 　　| `**一口メモ**` | **一口メモ** |  \n",
    "| 斜体（Italic) 　　| `*cold*` | *cold* |  \n",
    "| 取り消し　　　　   | `~~取り消し~~` | ~~取り消し~~ |  \n",
    "| リンク　　　　　　　| `[九州大学](https://www.kyushu-u.ac.jp)` | [九州大学](https://www.kyushu-u.ac.jp) |  \n",
    "| 箇条書き          | - 項目1 <br> - 項目2  | <ul> <li>項目1</li> <li>項目2</li></ul> |  \n",
    "| 番号付きリスト     | 1. 項目1 <br> 1. 項目2 | <ol> <li>項目1</li> <li>項目2</li></ol> |  \n",
    "\n",
    "\n",
    "> 【注意】  \n",
    "    日本語は斜体（イタリック）になりません。  \n",
    "    箇条書きを示すために、\"-\"や\"1\"の後に、スペースが必要です。  \n",
    "  \n",
    "   \n",
    "> 【参考】 [Markdown記法](https://qiita.com/kamorits/items/6f342da395ad57468ae3)  \n",
    "  \n",
    "  \n",
    "> 【参考】 文章の保存について　我々は、コンピュータやスマートフォンの電子メールやSNS (social networking service)を通じて、日常的に文字をやり取りしている。よく考えてみると、コンピュータから送られた電子メールをスマートフォンで正しく読めるためには、入力した文字をコンピュータやスマートフォンで共通に認識出来るように変換する仕組みが必要である。これを、[文字コード(character encoding)](https://en.wikipedia.org/wiki/Character_encoding)と呼んでいる。アルファベットを表すために[ASCII (アスキー)コード](https://ja.wikipedia.org/wiki/ASCII)が、日本語を表すためには、[シフトJISコード]が使われて来た。アルファベットは、26文字であるが、日本語は、五十音と[常用漢字](https://ja.wikipedia.org/wiki/常用漢字)2136文字を表記させる必要がある。このために、日本語では、[2バイト](https://ja.wikipedia.org/wiki/2バイト言語)が使われている。日本語以外でも、中国語、韓国語、アラビア語など、多様な言語を統一した形式で表すために、現在は、[Unicode](https://ja.wikipedia.org/wiki/Unicode)が使われている。このように、文字の表記だけでも大きな問題があった。更に、文字を太文字にしたり、ルビを振ったり、行替えを行ったりする時の手法は、それを扱うアプリケーションに依存している。例えば、マイクロソフト社のワード(Word)で作成された文章は、ワードというアプリケーションがないと読むことが出来ない。このようなことを考えると、百年後、千年後にも電子的に書かれた文章を読めるような形で残すためには、単純でいつまでも使われる形で保存しないと無くなってしまうことが想像される。ビックデータも含めて、多数のデータを長期間保存するためには、いろいろと検討しなければならないことがあるのである。\n",
    "\n",
    "\n",
    "\n",
    "### Notebookの終了\n",
    "\n",
    "　Notebookを保存するためには、画面左上の保存アイコン（四角のフロッピーディスク）を押します。\n",
    "\n",
    "また、操作を終了する場合には、左上の「File」のプルダウンメニューから、「Log Out」を選択してください。   \n",
    "\n",
    "<img src=\"images/jupyterlab_3.png\" alt=\"Log out from JupyterLab\" style=\"width= 800px\" />  \n"
   ]
  },
  {
   "cell_type": "markdown",
   "metadata": {},
   "source": [
    "## 計算をしてみよう\n",
    "\n",
    "\n",
    "### JupyterLabでの計算  Calculations on JupyterLab\n",
    "\n",
    "Jupyter notebookでは In[番号]のセルを評価(Execute)すると、結果がOut[番号]として示されます。\n",
    "\n",
    "簡単な計算を行う例を示します。\n",
    "1+2の計算例"
   ]
  },
  {
   "cell_type": "code",
   "execution_count": null,
   "metadata": {},
   "outputs": [],
   "source": [
    "1 + 2 "
   ]
  },
  {
   "cell_type": "markdown",
   "metadata": {},
   "source": [
    "上のセル内（入力）にカーソルを置いて、**「Shift + Return」**と二つのキーを押すと、結果が出力されるので試みてください。\n",
    "\n",
    "確認が終わりましたら、自由に数値や演算記号を変えて計算をしてみてください。"
   ]
  },
  {
   "cell_type": "markdown",
   "metadata": {},
   "source": [
    "### 算術演算子と計算の優先順位\n",
    "\n",
    "主な演算操作を下に記します。  \n",
    "\n",
    "\n",
    "<center><bd>算術演算子</bd></center>    \n",
    "\n",
    "| 演算 operation  | 演算子 operator |\n",
    "| :---- | :---: | \n",
    "| 加算 addition | + |  \n",
    "| 減算 subtraction | - |  \n",
    "| 乗算 multiplication | * |  \n",
    "| 除算 division | / |  \n",
    "| 除算の整数部 integer part of division | // |\n",
    "| 除算の剰余 reminder | % |\n",
    "| 冪乗 power | ** |  \n",
    "\n",
    "\n",
    "> 【確認】　計算を行うごとに、入力[ ]、出力[ ]内の番号が変わります。\n",
    "\n",
    "\n",
    "例えば、計算できないような計算を行うと、エラーが出てきます。\n"
   ]
  },
  {
   "cell_type": "code",
   "execution_count": null,
   "metadata": {},
   "outputs": [],
   "source": [
    "10 / 0"
   ]
  },
  {
   "cell_type": "markdown",
   "metadata": {},
   "source": [
    "次の計算を行ってください。"
   ]
  },
  {
   "cell_type": "code",
   "execution_count": null,
   "metadata": {},
   "outputs": [],
   "source": [
    "#最後の式の結果だけが表示されます。\n",
    "1 + 2 + 3\n",
    "2 * 2 * 2\n",
    "10 - 3 + 5"
   ]
  },
  {
   "cell_type": "markdown",
   "metadata": {},
   "source": [
    "1つのセルの中に複数の式を書くことが出来ますが、表示されるのは最後の式の評価結果のみです。また、セルの中の#で始まる行の評価はされません。セルの中で一時的に実行したくない場合や、プログラムの中で、注釈(コメント)を残しておきたい場合に利用します。\n",
    "\n",
    "> 【一口メモ】#で始まる行のことを注釈行（コメント） と呼びます。注釈行のように実行されない（プログラミングで使われない）行を作ることをコメントアウト (comment out)と呼びます。プログラムを作る時には注釈行は必要ないかもしれないが、後でプログラムを見直したり、修正する場合にはとても有益である。しかし、Jupyter notebookの場合には、明確に計算を実行するセルと、解説のセルとを区別出来るので、注釈行を入れるとしても、ポイントのみで良い。  \n",
    "> 【参考】  \n",
    "> [コメントを書くとき知っておきたいこと](https://eng-entrance.com/commentout)  \n",
    "> [コメントの9割は無駄!](https://next.rikunabi.com/journal/20131216_t21_iq/)  \n",
    "\n"
   ]
  },
  {
   "cell_type": "markdown",
   "metadata": {},
   "source": [
    "演算子には優先順位があり、優先順位の高い方から計算されます。演算子の順位は下記の通りです。  \n",
    "かっこは「( )」のみが使えます。数学で使われる「{ }」や「[ ]」は使うことが出来ません。また、同じ優先順位の演算子の場合には、左から実行されます。\n",
    "\n",
    "<center><bd>演算子の優先順位 Priority of operators</bd></center>    \n",
    "\n",
    "| 順位 priority  | 演算子 operator |\n",
    "| :---- | :---: | \n",
    "| 1(高) | ( ) |  \n",
    "| 2 ↑ | ** |  \n",
    "| 3 ↓ | *  /  % |  \n",
    "| 4(低) | + - |\n",
    "\n",
    "\n",
    "よく見受けられる計算式の記載間違いは次のようなものがあります。\n",
    "\n",
    "<center><bd>よくある計算式の間違い Mistakes of equations </bd></center>  \n",
    "\n",
    "| 数式 equation | プログラム program | 計算結果 result |  \n",
    "| :----------: | :--------------: | :-------------: |  \n",
    "| 3a + 1       | 3 * a + 1        | *を忘れるとエラーとなる |  \n",
    "| (2+b)(2-b)   | (2 + b) * (2 - b) | *を忘れるとエラーとなる |  \n",
    "| $$ \\frac{a+1}{b(b-1)} $$ | (a + 1) /(b * (b - 1)) | 分子全体、分母全体の括弧を忘れると<br>全く違う式になる |  \n",
    "\n",
    "> 【一口メモ】この表のソースコードは、TeXを使って\\frac{a+1}{b(b-1)}と書かれています。  \n",
    "TeXとは、数式を含めて文章をきれいな形式で表すことが出来るものです。論文等は、TeXで書かれるものが増えています。　　\n",
    "\n",
    "\n",
    "### 指数を使った数値の記述  \n",
    "\n",
    "極めて大きな数値や、極めて小さな数値を表現する場合には、「指数付き定数」を利用します。  \n",
    "\n",
    "例：  $$15000 → 1.5 \\times 10^4$$\n",
    "　  　$$0.003 → 3.0 \\times 10^{-3}$$  \n",
    "\n",
    "Pythonの指数付き定数は、「[仮数部(significand)](https://ja.wikipedia.org/wiki/仮数) E 指数部(exponent)」として表記します。上記の例は、次のように表現されます。"
   ]
  },
  {
   "cell_type": "code",
   "execution_count": null,
   "metadata": {},
   "outputs": [],
   "source": [
    "1.5E4"
   ]
  },
  {
   "cell_type": "code",
   "execution_count": null,
   "metadata": {},
   "outputs": [],
   "source": [
    "3.0E-3"
   ]
  },
  {
   "cell_type": "markdown",
   "metadata": {},
   "source": [
    "次のような表記は誤りです。\n",
    "\n",
    "<center><bd>指数付き定数表記の間違い Mistakes of numbers with an exponent </bd></center>  \n",
    "\n",
    "| 誤表記 wrong expression | 間違い　mistake | 正しい表記 right expression |  \n",
    "| :----------: | :--------------: | :-------------: |  \n",
    "| E5      | 仮数部が1でも省略不可 <br>always significand is necessary  | 1E5 |  \n",
    "| 1.23E0.3   | 指数部は整数のみ <br>exponent is an only integer | 表記不可 |  \n",
    "| 3.0E(-2) | 指数部のかっこは必要ない <br>expoent does not need bracket | 3.0E-2 |\n",
    "| 2.5 * E6 | 仮数部と指数部の間の*は不要 <br>astarisk should be removed. | 2.5E6 |\n",
    "| 3\\**4 | べき乗の計算式であり、指数付き定数ではない | - |  \n",
    "\n",
    "\n"
   ]
  },
  {
   "cell_type": "markdown",
   "metadata": {},
   "source": [
    "Pythonでは、複素数(complex number)も使うことが出来ます。虚数単位は、*i*ではなく、*j*である点に注意してください。"
   ]
  },
  {
   "cell_type": "code",
   "execution_count": null,
   "metadata": {},
   "outputs": [],
   "source": [
    "a = 1.3 + 0.5j"
   ]
  },
  {
   "cell_type": "markdown",
   "metadata": {},
   "source": [
    "複素数*a* の整数部と虚数部は次のように取得できます。"
   ]
  },
  {
   "cell_type": "code",
   "execution_count": null,
   "metadata": {},
   "outputs": [],
   "source": [
    "a.real"
   ]
  },
  {
   "cell_type": "code",
   "execution_count": null,
   "metadata": {},
   "outputs": [],
   "source": [
    "a.imag"
   ]
  },
  {
   "cell_type": "code",
   "execution_count": null,
   "metadata": {},
   "outputs": [],
   "source": [
    "type(a)"
   ]
  },
  {
   "cell_type": "markdown",
   "metadata": {},
   "source": [
    "複素数*a* の共役な複素数を求めます。"
   ]
  },
  {
   "cell_type": "code",
   "execution_count": null,
   "metadata": {},
   "outputs": [],
   "source": [
    "a.conjugate()"
   ]
  },
  {
   "cell_type": "markdown",
   "metadata": {},
   "source": [
    "## 数学関数の利用\n",
    "\n",
    "### 数学関数を利用するための準備  \n",
    "\n",
    "Pythonは組み込まれている機能に加えて、「[モジュール(module)])https://docs.python.org/ja/3/tutorial/modules.html)」を使うことで機能を拡張することが可能です。数学関数(mathematical functions)を利用するためには、「mathモジュール(module)」を使います。  \n",
    "Pythonにおいてモジュール(module)を使えるようにすることを「[インポート(import)](https://www.tech-teacher.jp/blog/python-import/)」と呼びます。  \n",
    "**import math** と書くことで、mathモジュールをインポート出来ます。  "
   ]
  },
  {
   "cell_type": "code",
   "execution_count": null,
   "metadata": {},
   "outputs": [],
   "source": [
    "import math"
   ]
  },
  {
   "cell_type": "markdown",
   "metadata": {},
   "source": [
    "mathについて知りたい時には、*?* をつけて評価してください。"
   ]
  },
  {
   "cell_type": "code",
   "execution_count": null,
   "metadata": {},
   "outputs": [],
   "source": [
    "math?"
   ]
  },
  {
   "cell_type": "markdown",
   "metadata": {},
   "source": [
    "評価結果から、mathは、モジュールであり、C言語で書かれた数学関数を使うことが出来ることを示しています。"
   ]
  },
  {
   "cell_type": "markdown",
   "metadata": {},
   "source": [
    "### 数学関数の利用方法  \n",
    "\n",
    "mathモジュール(module)には、次のような関数(function)が含まれています。  \n",
    "\n",
    "<center><bd>mathモジュールに含まれる数学関数例 Examples of mathematical functions in math module</bd></center>  \n",
    "\n",
    "| 関数 function     | 式 expression   | 関数名 function name | 備考 remark |  \n",
    "| :----------:     | :--------------: | :-------------:     | :----      |  \n",
    "| べき乗 exponental | $$x^y$$         | pow(x,y)            |            |  \n",
    "| 平方根 root       | $$\\sqrt{x}$$      | sqrt(x)             |            |  \n",
    "| 正弦 sine         | $$\\sin{x}$$      | sin(x)              | 角度単位はラジアン Unit: radian |   \n",
    "| 余弦 cosine       | $$\\cos{x}$$      | cos(x)              | 角度単位はラジアン Unit: radian |   \n",
    "| 正接 tangent      | $$\\tan{x}$$      | tan(x)              | 角度単位はラジアン Unit: radian |   \n",
    "| 円周率 pi         | $$\\pi$$          | pi                   |           |  \n",
    "| 自然対数 natural logarithm | $$log{x}$$ | log(x)             | 底は*e* Base: *e* |  \n",
    "| 常用対数 common logarithm  | $$log_{10}{x}$$ | log10(x)      | 底は10 Base: 10   |\n",
    "| 指数関数 exponential       | $$e^x$$       | exp(x)        |            |  \n",
    "| 度数ラジアン変換 <br>conversion from degrees to radians | - | radians(x) | 度数(degree) → ラジアン(radian)を返す | \n",
    "| ラジアン度数変換 <br>conversion from radians to degrees | - | degrees(x) | ラジアン(radian) → 度数(degree)を返す | \n",
    "\n",
    "\n",
    "**【重要】** 上記は、mathモジュール(module)に属する関数です。これらを使うためには関数の前にモジュール名「math」をつける必要があります。例えば、sin xを求めるためには、math.sin(x)と書く必要があります。  \n",
    "\n",
    "例：sin 30°の計算　　\n",
    "\n",
    "### mathモジュール\n",
    "数学関数の詳細は、[マニュアル](https://docs.python.org/ja/3/library/math.html#)を参照してください。"
   ]
  },
  {
   "cell_type": "code",
   "execution_count": null,
   "metadata": {},
   "outputs": [],
   "source": [
    "math.sin(math.radians(30))"
   ]
  },
  {
   "cell_type": "markdown",
   "metadata": {},
   "source": [
    "例：tan 45°の計算"
   ]
  },
  {
   "cell_type": "code",
   "execution_count": null,
   "metadata": {},
   "outputs": [],
   "source": [
    "math.tan(math.radians(45))"
   ]
  },
  {
   "cell_type": "code",
   "execution_count": null,
   "metadata": {},
   "outputs": [],
   "source": [
    "math.cos(math.radians(60))"
   ]
  },
  {
   "cell_type": "markdown",
   "metadata": {},
   "source": [
    "### 【課題】 \n",
    "上記のmath.sin(math.radians(30))は0.5に、math.tan(math.radians(45))は1に、math.cos(math.radians(60))も0.5になるはずであるが、そうなっていない理由はなんであろうか？"
   ]
  },
  {
   "cell_type": "markdown",
   "metadata": {},
   "source": [
    "## 文字列  \n",
    "\n",
    "Pythonでは、数字以外に文字も扱うことが出来ます。文字の集まりは、「文字列」として扱われます。  \n",
    "\n",
    "### 文字列の利用  \n",
    "\n",
    "文字列は、その両端をダブルクォート(double quote)「\"」、またはシングルクォート(single quote)「'」で括ります。これらは引用符(quotation)と呼ばれています。  \n",
    "\n",
    "例：　文字列"
   ]
  },
  {
   "cell_type": "code",
   "execution_count": null,
   "metadata": {},
   "outputs": [],
   "source": [
    "\"Hello World\""
   ]
  },
  {
   "cell_type": "code",
   "execution_count": null,
   "metadata": {},
   "outputs": [],
   "source": [
    "'Hello Universe'"
   ]
  },
  {
   "cell_type": "markdown",
   "metadata": {},
   "source": [
    "英語だけでなく日本語も扱えます。"
   ]
  },
  {
   "cell_type": "code",
   "execution_count": null,
   "metadata": {},
   "outputs": [],
   "source": [
    "\"日本語文字列\""
   ]
  },
  {
   "cell_type": "markdown",
   "metadata": {},
   "source": [
    "シングルクォートもダブルクォートも同じように扱われますが、Jupyter Notebookではシングルクォートとして表示されます。\n",
    "\n",
    "> 【一口メモ】日本語でのダブルクォートでは、半角文字と全角文字の区別がつきずらく、全角文字の「\"」を入れてエラーが出ることがあります。気をつけて下さい。 \n",
    "\n",
    "> File \"<ipython-input-21-72f21862bb7d>\", line 1  \n",
    ">     ”日本語文字列\"  \n",
    ">          ^  \n",
    "> SyntaxError: invalid character in identifier    \n"
   ]
  },
  {
   "cell_type": "markdown",
   "metadata": {},
   "source": [
    "### 複雑な文字列の作成  \n",
    "\n",
    "Pythonでは、機能として割り振られた記号があります。例えば、ダブルクォート(double quote)「\"]やシングルクォート(single quote)「'」は、そのままでは、機能を示す記号と認識されてしまいます。このため、記号として使いたい場合には、その前にパックスラッシュ(backslash)「 \\ 」を直前に置きます。このようにバックスラッシュを使って、普通の文字にすることを「エスケープ(escape)」と呼びます。  \n",
    "\n",
    "例：文字列の中にバックスラッシュを入れる。"
   ]
  },
  {
   "cell_type": "code",
   "execution_count": null,
   "metadata": {},
   "outputs": [],
   "source": [
    "# ダブルクォートで括る場合には、バックラッシュが必要\n",
    "\"He said \\\"Hello World\\\". \""
   ]
  },
  {
   "cell_type": "code",
   "execution_count": null,
   "metadata": {},
   "outputs": [],
   "source": [
    "# シングルクォートで括る場合には、バックラッシュは必要ない\n",
    "'He said \"Hello World\". '"
   ]
  },
  {
   "cell_type": "code",
   "execution_count": null,
   "metadata": {},
   "outputs": [],
   "source": [
    "# ダブルクォートで括る場合には、バックラッシュが必要\n",
    "\"I don't know why she did so.\""
   ]
  },
  {
   "cell_type": "code",
   "execution_count": null,
   "metadata": {},
   "outputs": [],
   "source": [
    "# シングルクォートで括る場合には、バックラッシュが必要\n",
    "'I don\\'t know why she did so.'"
   ]
  },
  {
   "cell_type": "markdown",
   "metadata": {},
   "source": [
    "### 文字列同士の連結  Connection of characters\n",
    "\n",
    "算術式と同じように文字列同士を「＋」演算子を使って連結することが出来ます。"
   ]
  },
  {
   "cell_type": "code",
   "execution_count": null,
   "metadata": {},
   "outputs": [],
   "source": [
    "\"優れた\" + \"文章\""
   ]
  },
  {
   "cell_type": "code",
   "execution_count": null,
   "metadata": {},
   "outputs": [],
   "source": [
    "\"I love\" + \"you.\""
   ]
  },
  {
   "cell_type": "code",
   "execution_count": null,
   "metadata": {},
   "outputs": [],
   "source": [
    "# 引用符の後にスペースを入れる\n",
    "\"I love\" + \" you.\""
   ]
  },
  {
   "cell_type": "markdown",
   "metadata": {},
   "source": [
    "### 文字列の繰り返し Repeat of characters\n",
    "\n",
    "算術式と同じように文字列に「\\*」演算子を適用すると、指定した回数だけ繰り返した文字列が出来る。"
   ]
  },
  {
   "cell_type": "code",
   "execution_count": null,
   "metadata": {},
   "outputs": [],
   "source": [
    "\"orz \" * 10"
   ]
  },
  {
   "cell_type": "markdown",
   "metadata": {},
   "source": [
    "> 【一口メモ】[orz](https://ja.wikipedia.org/wiki/Orz)とは、[アスキーアート](https://ja.wikipedia.org/wiki/アスキーアート)で、「ガッカリ」の意味を表す。"
   ]
  },
  {
   "cell_type": "code",
   "execution_count": null,
   "metadata": {},
   "outputs": [],
   "source": [
    "'Oh!' * 20"
   ]
  },
  {
   "cell_type": "markdown",
   "metadata": {},
   "source": [
    "## 変数 variables\n",
    "\n",
    "計算(computation)に利用する数字(numbers)や文字列(characters)などを格納(store)する記憶場所(memory)を「変数(variables)」と呼びます。  \n",
    "\n",
    "### 変数とその命名規則 Variables and their usage rules  \n",
    "\n",
    "変数には自由に名前をつけることが出来ますが、以下のような規則(rules)があります。\n",
    "\n",
    "1. アルファベット(alphabets)、数字(numbers)、下線(underscore)「\\_」を利用する  \n",
    "1. 最初の1文字はアルファベット、または下線「\\_」\n",
    "1. アルファベット(alphabets)の大文字(capital letter)と小文字(small letter)は区別(distinguish)される\n",
    "1. and, not, if, forなどPythonに組み込まれたキーワード（予約語）は使えない\n",
    "\n",
    "Pythonでは、日本語も変数名として使うことが出来ます。しかし、本講義では混乱をさせるために使いません。  \n",
    "【注意】変数に名前をつける必要がない場合、'\\_'1文字の変数を使うことがあります。　　"
   ]
  },
  {
   "cell_type": "markdown",
   "metadata": {},
   "source": [
    "### 変数への代入 Assignment to a variable  \n",
    "\n",
    "変数に数値を割り当てることを「代入(assignment)」と呼びます。代入には演算子(operator)「=」が使われます。　　\n",
    "\n",
    "例：変数への代入"
   ]
  },
  {
   "cell_type": "code",
   "execution_count": null,
   "metadata": {},
   "outputs": [],
   "source": [
    "# 代入では結果になに表示されません。\n",
    "a = 100"
   ]
  },
  {
   "cell_type": "code",
   "execution_count": null,
   "metadata": {},
   "outputs": [],
   "source": [
    "# 変数aを評価すると、値が表示されます。\n",
    "a"
   ]
  },
  {
   "cell_type": "code",
   "execution_count": null,
   "metadata": {},
   "outputs": [],
   "source": [
    "#　正しくない変数を使うと、エラーが表示されます。 先頭に数字は使えません。\n",
    "2a = 10"
   ]
  },
  {
   "cell_type": "markdown",
   "metadata": {},
   "source": [
    "### 変数の型 Types of valuables  \n",
    "\n",
    "変数には、数値、文字などの「型(types)」があります。Pythonでは、代入時に自動的に型を判別しています。\n",
    "\n",
    "<center><bd>変数の型 Types of valuables</bd></center>  \n",
    "\n",
    "| 表示 display | 型名 type name | 例 example |  \n",
    "|  :------:   | :-----------: | :-------:   |  \n",
    "| int         | 整数  | 1, 100, -5 |  \n",
    "| float       | 実数  | 12.3, -50.4 |  \n",
    "| str         | 文字列 | おはよう, Hello World! |  \n",
    "| list        | リスト　| [1, 2, 3], [\"A\", \"B\", \"12\"] |  \n",
    "| dict        | 辞書　　| {‘id’: 1, ‘Name’: ‘Yamada’, ‘読書リスト’: [‘細雪’, ‘雪国’, ‘雨’]} |  \n",
    "\n",
    "type( )を使うと、変数の型を調べることが出来ます。"
   ]
  },
  {
   "cell_type": "code",
   "execution_count": null,
   "metadata": {},
   "outputs": [],
   "source": [
    "a = 100\n",
    "a"
   ]
  },
  {
   "cell_type": "code",
   "execution_count": null,
   "metadata": {},
   "outputs": [],
   "source": [
    "type(a)"
   ]
  },
  {
   "cell_type": "code",
   "execution_count": null,
   "metadata": {},
   "outputs": [],
   "source": [
    "text = \"九州大学\"\n",
    "type(text)"
   ]
  },
  {
   "cell_type": "code",
   "execution_count": null,
   "metadata": {},
   "outputs": [],
   "source": [
    "t = 1.234\n",
    "type(t)"
   ]
  },
  {
   "cell_type": "markdown",
   "metadata": {},
   "source": [
    "floatとintの型の間では演算が可能です。"
   ]
  },
  {
   "cell_type": "code",
   "execution_count": null,
   "metadata": {},
   "outputs": [],
   "source": [
    "a + t"
   ]
  },
  {
   "cell_type": "code",
   "execution_count": null,
   "metadata": {},
   "outputs": [],
   "source": [
    "b = a + t\n",
    "type(b)"
   ]
  },
  {
   "cell_type": "code",
   "execution_count": null,
   "metadata": {},
   "outputs": [],
   "source": [
    "type(a + t)"
   ]
  },
  {
   "cell_type": "markdown",
   "metadata": {},
   "source": [
    "数値と文字列といった、型が異なる変数同士での演算はエラーとなります。"
   ]
  },
  {
   "cell_type": "code",
   "execution_count": null,
   "metadata": {},
   "outputs": [],
   "source": [
    "a + text"
   ]
  },
  {
   "cell_type": "code",
   "execution_count": null,
   "metadata": {},
   "outputs": [],
   "source": [
    "この場合、数値型のaを文字列に変換することで連結することは可能です。"
   ]
  },
  {
   "cell_type": "code",
   "execution_count": null,
   "metadata": {},
   "outputs": [],
   "source": [
    "text + str(a)"
   ]
  },
  {
   "cell_type": "code",
   "execution_count": null,
   "metadata": {},
   "outputs": [],
   "source": [
    "a = 50\n",
    "b = \"50\"\n",
    "a + b"
   ]
  },
  {
   "cell_type": "code",
   "execution_count": null,
   "metadata": {},
   "outputs": [],
   "source": [
    "a = 50\n",
    "b = \"50\"\n",
    "str(a) + b"
   ]
  },
  {
   "cell_type": "code",
   "execution_count": null,
   "metadata": {},
   "outputs": [],
   "source": [
    "type(str(a) + b)"
   ]
  },
  {
   "cell_type": "markdown",
   "metadata": {},
   "source": [
    "aは、最初は100の数値が入っていましたが、次に50を代入したために、aに保持されている数値は変わりました。同じ変数名で数値や文字列を自由に変えることが出来、最後に代入された値が残ります。"
   ]
  },
  {
   "cell_type": "markdown",
   "metadata": {},
   "source": [
    "### 複合演算子を使った文字列の連結  Connection of characters by compound operator  \n",
    "\n",
    "「複合演算子(compound operator)」は、代入と計算を同時に行う演算子です。演算子「+=」を使うと文字列の操作を簡単に行うことが出来ます。  "
   ]
  },
  {
   "cell_type": "code",
   "execution_count": null,
   "metadata": {},
   "outputs": [],
   "source": [
    "a = '日本語'\n",
    "a += 'の正しい使い方'\n",
    "a"
   ]
  },
  {
   "cell_type": "code",
   "execution_count": null,
   "metadata": {},
   "outputs": [],
   "source": [
    "a = 20\n",
    "a += -5\n",
    "a"
   ]
  },
  {
   "cell_type": "code",
   "execution_count": null,
   "metadata": {},
   "outputs": [],
   "source": [
    "a = 20\n",
    "a -= -5\n",
    "a"
   ]
  },
  {
   "cell_type": "code",
   "execution_count": null,
   "metadata": {},
   "outputs": [],
   "source": [
    "c = 2\n",
    "c *=3\n",
    "c"
   ]
  },
  {
   "cell_type": "markdown",
   "metadata": {},
   "source": [
    "## 表示関数 Display function  \n",
    "\n",
    "Jupyter Notebookでは、最後に評価(evaluation)された値が出力(output)されますが、途中結果などの値を表示したい場合には、表示関数print( )を使います。"
   ]
  },
  {
   "cell_type": "code",
   "execution_count": null,
   "metadata": {},
   "outputs": [],
   "source": [
    "print(\"Hello World\")"
   ]
  },
  {
   "cell_type": "markdown",
   "metadata": {},
   "source": [
    "上で出力された文字列\"Hello World\"は、Out[ ]として出力されていないことに注意して下さい。  \n",
    "print( ) は、カンマ(comma)で区切ることで、複数の項目を表示することが出来ます。"
   ]
  },
  {
   "cell_type": "code",
   "execution_count": null,
   "metadata": {},
   "outputs": [],
   "source": [
    "print(\"Hello World\", 2020)"
   ]
  },
  {
   "cell_type": "code",
   "execution_count": null,
   "metadata": {},
   "outputs": [],
   "source": [
    "print?"
   ]
  },
  {
   "cell_type": "markdown",
   "metadata": {},
   "source": [
    "### 表示関数の利用  \n",
    "\n",
    "例：print()を使って、12.3 + 2.5を表示する。"
   ]
  },
  {
   "cell_type": "code",
   "execution_count": null,
   "metadata": {},
   "outputs": [],
   "source": [
    "print(12.3 + 2.5)"
   ]
  },
  {
   "cell_type": "markdown",
   "metadata": {},
   "source": [
    "### 数字から文字列への変換 Conversion from number to character  \n",
    "\n",
    "str( )を使うと、数字から文字列に変換できます。"
   ]
  },
  {
   "cell_type": "code",
   "execution_count": null,
   "metadata": {},
   "outputs": [],
   "source": [
    "str( 15 )"
   ]
  },
  {
   "cell_type": "code",
   "execution_count": null,
   "metadata": {},
   "outputs": [],
   "source": [
    "str?"
   ]
  },
  {
   "cell_type": "markdown",
   "metadata": {},
   "source": [
    "print( )は、書式を整えて計算結果を出力する場合にも理に愛することが出来ます。\n",
    "\n",
    "$$frac{1024}{16} + 10$$を計算して、「ANSWER = 計算結果」という形式で示す。"
   ]
  },
  {
   "cell_type": "code",
   "execution_count": null,
   "metadata": {},
   "outputs": [],
   "source": [
    "print('ANSER = ' + str(1024 / 16 + 10))"
   ]
  },
  {
   "cell_type": "code",
   "execution_count": null,
   "metadata": {},
   "outputs": [],
   "source": [
    "print('ANSER = ' , str(1024 / 16 + 10))"
   ]
  },
  {
   "cell_type": "markdown",
   "metadata": {},
   "source": [
    "## 演習問題 Exercise\n",
    "\n",
    "1. 本日の復習と数値計算での注意を示します。上で勉強した三角関数の計算では、誤差が生じました。この理由は、コンピュータの小数の計算は二進法で処理されていることに対して、私たちは十進法を使っていることに起因しています。\n",
    "例えば、次の計算を実行して比較してください。   \n",
    "\n",
    "`print(0.1)`   \n",
    "\n",
    "`print(format(0.1, '.30f'))`\n",
    "\n",
    "これは、二つの大きな問題を引き起こします。一つは、計算結果が、このような計算誤差により正い結果からずれている可能性があることが考えられます。もう一つは、プログラムの中では、数値を比較することがありますが、このような誤差のために本当は一致すべき値が一致しないことで、間違った操作を行う可能性が出てくることです。数値計算においては、いかに誤差を除くかが大きな問題となることがあることを覚えて置いてください。\n",
    "\n",
    "Pythonの[不動小数点(floatingpoint)](https://docs.python.org/ja/3/tutorial/floatingpoint.html)の解説を読んでみてください。\n",
    "\n",
    "【参考】\n",
    "- [Pythonで浮動小数点数floatの誤差を考慮して比較](https://note.nkmk.me/python-math-isclose/)   \n",
    "- [Pythonのformatメソッド](https://www.headboost.jp/python-print-format-method/)\n"
   ]
  }
 ],
 "metadata": {
  "kernelspec": {
   "display_name": "Python 3",
   "language": "python",
   "name": "python3"
  },
  "language_info": {
   "codemirror_mode": {
    "name": "ipython",
    "version": 3
   },
   "file_extension": ".py",
   "mimetype": "text/x-python",
   "name": "python",
   "nbconvert_exporter": "python",
   "pygments_lexer": "ipython3",
   "version": "3.8.10"
  },
  "latex_envs": {
   "LaTeX_envs_menu_present": true,
   "autoclose": false,
   "autocomplete": true,
   "bibliofile": "biblio.bib",
   "cite_by": "apalike",
   "current_citInitial": 1,
   "eqLabelWithNumbers": true,
   "eqNumInitial": 1,
   "hotkeys": {
    "equation": "Ctrl-E",
    "itemize": "Ctrl-I"
   },
   "labels_anchors": false,
   "latex_user_defs": false,
   "report_style_numbering": false,
   "user_envs_cfg": false
  },
  "toc": {
   "base_numbering": 1,
   "nav_menu": {},
   "number_sections": true,
   "sideBar": true,
   "skip_h1_title": false,
   "title_cell": "Table of Contents",
   "title_sidebar": "Contents",
   "toc_cell": false,
   "toc_position": {},
   "toc_section_display": true,
   "toc_window_display": false
  }
 },
 "nbformat": 4,
 "nbformat_minor": 4
}
